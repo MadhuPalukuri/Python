{
  "nbformat": 4,
  "nbformat_minor": 0,
  "metadata": {
    "colab": {
      "provenance": []
    },
    "kernelspec": {
      "name": "python3",
      "display_name": "Python 3"
    },
    "language_info": {
      "name": "python"
    }
  },
  "cells": [
    {
      "cell_type": "code",
      "execution_count": 3,
      "metadata": {
        "colab": {
          "base_uri": "https://localhost:8080/"
        },
        "id": "y4yb6fV0lG9i",
        "outputId": "87fea5e1-622f-4edf-fe61-fdcc8242168c"
      },
      "outputs": [
        {
          "output_type": "stream",
          "name": "stdout",
          "text": [
            "to stop\n",
            "wait\n",
            "to go\n"
          ]
        }
      ],
      "source": [
        "def signal_red():\n",
        "    print(\"to stop\")\n",
        "def signal_yellow():\n",
        "    print(\"wait\")\n",
        "def signal_green():\n",
        "    print(\"to go\")\n",
        "signal_red()\n",
        "signal_yellow()\n",
        "signal_green()"
      ]
    },
    {
      "cell_type": "code",
      "source": [
        "def greet():\n",
        "    print('Hello World!')\n",
        "\n",
        "# call the function\n",
        "greet()\n",
        "\n",
        "print('Outside function')\n"
      ],
      "metadata": {
        "colab": {
          "base_uri": "https://localhost:8080/"
        },
        "id": "bNLkBmTYmdna",
        "outputId": "314bb972-06c9-4f74-9366-0a75525fb315"
      },
      "execution_count": 4,
      "outputs": [
        {
          "output_type": "stream",
          "name": "stdout",
          "text": [
            "Hello World!\n",
            "Outside function\n"
          ]
        }
      ]
    },
    {
      "cell_type": "code",
      "source": [
        "# function with two arguments\n",
        "def add_numbers(num1, num2):\n",
        "    sum = num1 + num2\n",
        "    print('Sum: ',sum)\n",
        "add_numbers()"
      ],
      "metadata": {
        "colab": {
          "base_uri": "https://localhost:8080/",
          "height": 211
        },
        "id": "KbI2PQZdnCUt",
        "outputId": "c9a7d36b-e1b7-4430-c11e-3c5d09f6d96d"
      },
      "execution_count": 5,
      "outputs": [
        {
          "output_type": "error",
          "ename": "TypeError",
          "evalue": "ignored",
          "traceback": [
            "\u001b[0;31m---------------------------------------------------------------------------\u001b[0m",
            "\u001b[0;31mTypeError\u001b[0m                                 Traceback (most recent call last)",
            "\u001b[0;32m<ipython-input-5-80e7cf38a54c>\u001b[0m in \u001b[0;36m<cell line: 5>\u001b[0;34m()\u001b[0m\n\u001b[1;32m      3\u001b[0m     \u001b[0msum\u001b[0m \u001b[0;34m=\u001b[0m \u001b[0mnum1\u001b[0m \u001b[0;34m+\u001b[0m \u001b[0mnum2\u001b[0m\u001b[0;34m\u001b[0m\u001b[0;34m\u001b[0m\u001b[0m\n\u001b[1;32m      4\u001b[0m     \u001b[0mprint\u001b[0m\u001b[0;34m(\u001b[0m\u001b[0;34m'Sum: '\u001b[0m\u001b[0;34m,\u001b[0m\u001b[0msum\u001b[0m\u001b[0;34m)\u001b[0m\u001b[0;34m\u001b[0m\u001b[0;34m\u001b[0m\u001b[0m\n\u001b[0;32m----> 5\u001b[0;31m \u001b[0madd_numbers\u001b[0m\u001b[0;34m(\u001b[0m\u001b[0;34m)\u001b[0m\u001b[0;34m\u001b[0m\u001b[0;34m\u001b[0m\u001b[0m\n\u001b[0m",
            "\u001b[0;31mTypeError\u001b[0m: add_numbers() missing 2 required positional arguments: 'num1' and 'num2'"
          ]
        }
      ]
    },
    {
      "cell_type": "code",
      "source": [
        " #function with two arguments\n",
        "def add_numbers(num1, num2):\n",
        "    sum = num1 + num2\n",
        "    print('Sum: ',sum)\n",
        "add_numbers(2,3)"
      ],
      "metadata": {
        "colab": {
          "base_uri": "https://localhost:8080/"
        },
        "id": "5z4VOe8JnZ9s",
        "outputId": "2affac29-b57d-4588-bf74-bf345986befe"
      },
      "execution_count": 8,
      "outputs": [
        {
          "output_type": "stream",
          "name": "stdout",
          "text": [
            "Sum:  5\n"
          ]
        }
      ]
    },
    {
      "cell_type": "code",
      "source": [
        "def my_name(*name):\n",
        "  print(\"my name is:\",name[0])\n",
        "my_name(\"medhaswi\",\"sri\",\"pada\")"
      ],
      "metadata": {
        "colab": {
          "base_uri": "https://localhost:8080/"
        },
        "id": "dXFw_CCptUml",
        "outputId": "dcfaeae2-e724-4d8b-d9ca-f11616cc5a18"
      },
      "execution_count": 16,
      "outputs": [
        {
          "output_type": "stream",
          "name": "stdout",
          "text": [
            "my name is: medhaswi\n"
          ]
        }
      ]
    },
    {
      "cell_type": "code",
      "source": [
        "def my_name(*name):\n",
        "  print(\"my name is:\",name)\n",
        "my_name(\"medhaswi\",\"sri\",\"pada\")"
      ],
      "metadata": {
        "colab": {
          "base_uri": "https://localhost:8080/"
        },
        "id": "kZaQWjLEoHwE",
        "outputId": "70192162-cf4d-4159-f3fa-3f1006e3529a"
      },
      "execution_count": 14,
      "outputs": [
        {
          "output_type": "stream",
          "name": "stdout",
          "text": [
            "my name is: ('medhaswi', 'sri', 'pada')\n"
          ]
        }
      ]
    },
    {
      "cell_type": "code",
      "source": [
        "def find_square(num):\n",
        "    result = num * num\n",
        "    return result\n",
        "square = find_square(3)\n",
        "print('Square:',square)"
      ],
      "metadata": {
        "colab": {
          "base_uri": "https://localhost:8080/"
        },
        "id": "SOioLrv1t26F",
        "outputId": "4b1f67dc-2e9b-4514-eb0e-57356a5f85e7"
      },
      "execution_count": 18,
      "outputs": [
        {
          "output_type": "stream",
          "name": "stdout",
          "text": [
            "Square: 9\n"
          ]
        }
      ]
    },
    {
      "cell_type": "code",
      "source": [
        "n = int(input())\n",
        "def find_square(num):\n",
        "    result = num ** 4\n",
        "    return result\n",
        "square = find_square()\n",
        "\n",
        "print('Square:',square)"
      ],
      "metadata": {
        "colab": {
          "base_uri": "https://localhost:8080/",
          "height": 263
        },
        "id": "OFegFooRuKni",
        "outputId": "80cc3f60-87c2-455e-fd36-1b58bccb1bd3"
      },
      "execution_count": 21,
      "outputs": [
        {
          "name": "stdout",
          "output_type": "stream",
          "text": [
            "5\n"
          ]
        },
        {
          "output_type": "error",
          "ename": "TypeError",
          "evalue": "ignored",
          "traceback": [
            "\u001b[0;31m---------------------------------------------------------------------------\u001b[0m",
            "\u001b[0;31mTypeError\u001b[0m                                 Traceback (most recent call last)",
            "\u001b[0;32m<ipython-input-21-b0ea617d9697>\u001b[0m in \u001b[0;36m<cell line: 5>\u001b[0;34m()\u001b[0m\n\u001b[1;32m      3\u001b[0m     \u001b[0mresult\u001b[0m \u001b[0;34m=\u001b[0m \u001b[0mnum\u001b[0m \u001b[0;34m**\u001b[0m \u001b[0;36m4\u001b[0m\u001b[0;34m\u001b[0m\u001b[0;34m\u001b[0m\u001b[0m\n\u001b[1;32m      4\u001b[0m     \u001b[0;32mreturn\u001b[0m \u001b[0mresult\u001b[0m\u001b[0;34m\u001b[0m\u001b[0;34m\u001b[0m\u001b[0m\n\u001b[0;32m----> 5\u001b[0;31m \u001b[0msquare\u001b[0m \u001b[0;34m=\u001b[0m \u001b[0mfind_square\u001b[0m\u001b[0;34m(\u001b[0m\u001b[0;34m)\u001b[0m\u001b[0;34m\u001b[0m\u001b[0;34m\u001b[0m\u001b[0m\n\u001b[0m\u001b[1;32m      6\u001b[0m \u001b[0;34m\u001b[0m\u001b[0m\n\u001b[1;32m      7\u001b[0m \u001b[0mprint\u001b[0m\u001b[0;34m(\u001b[0m\u001b[0;34m'Square:'\u001b[0m\u001b[0;34m,\u001b[0m\u001b[0msquare\u001b[0m\u001b[0;34m)\u001b[0m\u001b[0;34m\u001b[0m\u001b[0;34m\u001b[0m\u001b[0m\n",
            "\u001b[0;31mTypeError\u001b[0m: find_square() missing 1 required positional argument: 'num'"
          ]
        }
      ]
    },
    {
      "cell_type": "code",
      "source": [
        "n = int(input())\n",
        "def find_square(num):\n",
        "    result = num **3\n",
        "    return result\n",
        "square = find_square(n)\n",
        "print('Square:',square)"
      ],
      "metadata": {
        "colab": {
          "base_uri": "https://localhost:8080/"
        },
        "id": "HN24l2YiuqmW",
        "outputId": "199b340b-a36d-401e-e17b-7aecdd40af72"
      },
      "execution_count": 28,
      "outputs": [
        {
          "output_type": "stream",
          "name": "stdout",
          "text": [
            "6\n",
            "Square: 216\n"
          ]
        }
      ]
    },
    {
      "cell_type": "code",
      "source": [
        "def my_function(x):\n",
        "  return 5 * x\n",
        "print(my_function(3),end=\",\")\n",
        "print(my_function(5),end=\",\")\n",
        "print(my_function(9))\n"
      ],
      "metadata": {
        "colab": {
          "base_uri": "https://localhost:8080/"
        },
        "id": "ZFCzLkWF04Vp",
        "outputId": "53c7ccf5-1649-4d71-bf46-8813251444a5"
      },
      "execution_count": 35,
      "outputs": [
        {
          "output_type": "stream",
          "name": "stdout",
          "text": [
            "15,25,45\n"
          ]
        }
      ]
    },
    {
      "cell_type": "code",
      "source": [
        "def recursion(k):\n",
        "  if(k > 0):\n",
        "    result = k + recursion(k - 1)\n",
        "    print(result,end=\",\")\n",
        "  else:\n",
        "    result = 0\n",
        "  return result\n",
        "print(\"\\n\\nRecursion Example Results\")\n",
        "recursion(10)"
      ],
      "metadata": {
        "colab": {
          "base_uri": "https://localhost:8080/"
        },
        "id": "4La6UZ-I2Vi6",
        "outputId": "ff89840d-bf17-48a3-ad21-5e3e9c81e707"
      },
      "execution_count": 45,
      "outputs": [
        {
          "output_type": "stream",
          "name": "stdout",
          "text": [
            "\n",
            "\n",
            "Recursion Example Results\n",
            "1,3,6,10,15,21,28,36,45,55,"
          ]
        },
        {
          "output_type": "execute_result",
          "data": {
            "text/plain": [
              "55"
            ]
          },
          "metadata": {},
          "execution_count": 45
        }
      ]
    }
  ]
}