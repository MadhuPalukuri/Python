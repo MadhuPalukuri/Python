{
  "nbformat": 4,
  "nbformat_minor": 0,
  "metadata": {
    "colab": {
      "provenance": []
    },
    "kernelspec": {
      "name": "python3",
      "display_name": "Python 3"
    },
    "language_info": {
      "name": "python"
    }
  },
  "cells": [
    {
      "cell_type": "code",
      "execution_count": null,
      "metadata": {
        "colab": {
          "base_uri": "https://localhost:8080/"
        },
        "id": "PR44e4wTDd-5",
        "outputId": "e8982275-e692-4845-f674-f5c09ada6ea7"
      },
      "outputs": [
        {
          "output_type": "stream",
          "name": "stdout",
          "text": [
            "input1\n",
            "input2\n",
            "input3\n",
            "input1\n",
            "input2\n",
            "input3\n",
            "input1c++input2input3\n"
          ]
        }
      ],
      "source": [
        "str1 = input()\n",
        "str2 = input()\n",
        "str3 = input()\n",
        "print(str1)\n",
        "print(str2)\n",
        "print(str3)\n",
        "print(str1 +\"c++\"+ str2 + str3)"
      ]
    },
    {
      "cell_type": "code",
      "source": [
        "str1 = input()\n",
        "print(type(str1))\n",
        "x = int(input())\n",
        "print(type(x))\n",
        "y = float(input())\n",
        "print(type(y))\n",
        "print(str1)\n",
        "print(x)\n",
        "print(y)\n",
        "print(f\"str1 + x + y\")"
      ],
      "metadata": {
        "colab": {
          "base_uri": "https://localhost:8080/"
        },
        "id": "Mg0yivofFhoi",
        "outputId": "3669bf87-7a3f-4a9d-df63-72ca66e05387"
      },
      "execution_count": null,
      "outputs": [
        {
          "output_type": "stream",
          "name": "stdout",
          "text": [
            "name\n",
            "<class 'str'>\n",
            "89\n",
            "<class 'int'>\n",
            "87.9\n",
            "<class 'float'>\n",
            "name\n",
            "89\n",
            "87.9\n",
            "str1 + x + y\n"
          ]
        }
      ]
    },
    {
      "cell_type": "code",
      "source": [
        "x = int(input())\n",
        "y = int(input())\n",
        "print(x)\n",
        "print(y)\n",
        "print(\"x+y=\"+\"\",x+y)"
      ],
      "metadata": {
        "colab": {
          "base_uri": "https://localhost:8080/"
        },
        "id": "jBWzy4jLJiIW",
        "outputId": "336116fb-e856-4d85-990a-5f2d6376ad1a"
      },
      "execution_count": null,
      "outputs": [
        {
          "output_type": "stream",
          "name": "stdout",
          "text": [
            "98\n",
            "76\n",
            "98\n",
            "76\n",
            "x+y= 174\n"
          ]
        }
      ]
    },
    {
      "cell_type": "code",
      "source": [
        "x = int(input())\n",
        "y = int(input())\n",
        "Z = int(input())\n",
        "print(x)\n",
        "print(y)\n",
        "print(Z)\n",
        "print(\"x+y+Z=\"+\"\",x+y+Z)"
      ],
      "metadata": {
        "colab": {
          "base_uri": "https://localhost:8080/"
        },
        "id": "jSJIik6VUNfZ",
        "outputId": "35a6c1ec-f86c-4350-8be8-85d3e9fddebf"
      },
      "execution_count": null,
      "outputs": [
        {
          "output_type": "stream",
          "name": "stdout",
          "text": [
            "98\n",
            "76\n",
            "6\n",
            "98\n",
            "76\n",
            "6\n",
            "x+y+Z= 180\n"
          ]
        }
      ]
    },
    {
      "cell_type": "code",
      "source": [
        "#sub of 2 numbers\n",
        "x = int(input())\n",
        "y = int(input())\n",
        "print(x)\n",
        "print(y)\n",
        "print(\"x-y=\"+\"\",x-y)"
      ],
      "metadata": {
        "colab": {
          "base_uri": "https://localhost:8080/"
        },
        "id": "am-OAKbIU4gC",
        "outputId": "19e5b448-0873-464f-e79e-3a547ba7420c"
      },
      "execution_count": null,
      "outputs": [
        {
          "output_type": "stream",
          "name": "stdout",
          "text": [
            "43\n",
            "76\n",
            "43\n",
            "76\n",
            "x-y= -33\n"
          ]
        }
      ]
    },
    {
      "cell_type": "code",
      "source": [
        "#mul of 2 numbers\n",
        "x = int(input())\n",
        "y = int(input())\n",
        "print(x)\n",
        "print(y)\n",
        "print(\"x*y=\"+\"\",x*y)"
      ],
      "metadata": {
        "colab": {
          "base_uri": "https://localhost:8080/"
        },
        "id": "dOF3lx5XVL6t",
        "outputId": "7294110c-68b0-45c4-82fc-f8f7e3548bd6"
      },
      "execution_count": null,
      "outputs": [
        {
          "output_type": "stream",
          "name": "stdout",
          "text": [
            "22\n",
            "31\n",
            "22\n",
            "31\n",
            "x*y= 682\n"
          ]
        }
      ]
    },
    {
      "cell_type": "code",
      "source": [
        "#div of 2 numbers\n",
        "x = int(input())\n",
        "y = int(input())\n",
        "print(x)\n",
        "print(y)\n",
        "print(\"x/y=\"+\"\",x/y)"
      ],
      "metadata": {
        "colab": {
          "base_uri": "https://localhost:8080/"
        },
        "id": "lpRe1KnAVlfW",
        "outputId": "9441e548-95f2-4500-8399-fb688c4a0f7b"
      },
      "execution_count": null,
      "outputs": [
        {
          "output_type": "stream",
          "name": "stdout",
          "text": [
            "25\n",
            "5\n",
            "25\n",
            "5\n",
            "x/y= 5.0\n"
          ]
        }
      ]
    },
    {
      "cell_type": "code",
      "source": [
        "name = input()\n",
        "radius  = int(input())\n",
        "print(f\"earth is {name} and its radius is {radius}\")"
      ],
      "metadata": {
        "colab": {
          "base_uri": "https://localhost:8080/"
        },
        "id": "0RtXVKprXHvM",
        "outputId": "366d095a-354a-4f19-e312-0d93e7e55cb0"
      },
      "execution_count": 10,
      "outputs": [
        {
          "output_type": "stream",
          "name": "stdout",
          "text": [
            "earth\n",
            "6317\n",
            "earth is earth and its radius is 6317\n"
          ]
        }
      ]
    },
    {
      "cell_type": "code",
      "source": [
        "NamE = \"madhu\"\n",
        "print(NamE)\n",
        "naME = \"MADHUvhorevheirviureh\"\n",
        "print(naME)"
      ],
      "metadata": {
        "colab": {
          "base_uri": "https://localhost:8080/"
        },
        "id": "ahfDyQkLYWSq",
        "outputId": "dadccfc5-7162-46da-cdb3-26e75233d667"
      },
      "execution_count": null,
      "outputs": [
        {
          "output_type": "stream",
          "name": "stdout",
          "text": [
            "madhu\n",
            "MADHUvhorevheirviureh\n"
          ]
        }
      ]
    },
    {
      "cell_type": "code",
      "source": [
        "if 5 < 2:\n",
        "  print(\"five is greater than 2 \")\n",
        "else :\n",
        "  print(\"five less than 2\")\n"
      ],
      "metadata": {
        "colab": {
          "base_uri": "https://localhost:8080/"
        },
        "id": "4lG_zgvrYWWQ",
        "outputId": "a36f04ca-2ba3-4855-f71c-7338f9d974bc"
      },
      "execution_count": null,
      "outputs": [
        {
          "output_type": "stream",
          "name": "stdout",
          "text": [
            "five less than 2\n"
          ]
        }
      ]
    },
    {
      "cell_type": "code",
      "source": [
        "x = str(3)\n",
        "y = int(3)\n",
        "z = float(3)\n",
        "print(f\"value of x is\",x)\n",
        "print(f\"value of y is\",y)\n",
        "print(f\"value of z is\",z)"
      ],
      "metadata": {
        "colab": {
          "base_uri": "https://localhost:8080/"
        },
        "id": "JDAO5w3jfXVs",
        "outputId": "14e13c5a-3b53-4cb3-bdab-2edd25b81f73"
      },
      "execution_count": null,
      "outputs": [
        {
          "output_type": "stream",
          "name": "stdout",
          "text": [
            "value of x is 3\n",
            "value of y is 3\n",
            "value of z is 3.0\n"
          ]
        }
      ]
    },
    {
      "cell_type": "code",
      "source": [
        "x = 5\n",
        "y = \"jupiter\"\n",
        "print(type(x))\n",
        "print(f'x is an integer type and its value is',x)\n",
        "print(type(y))\n",
        "print(f'y is string & the name of the string is',y)"
      ],
      "metadata": {
        "colab": {
          "base_uri": "https://localhost:8080/"
        },
        "id": "J0zqqGc0gM0O",
        "outputId": "af79ed37-c253-434e-be3f-59cb320db6d3"
      },
      "execution_count": null,
      "outputs": [
        {
          "output_type": "stream",
          "name": "stdout",
          "text": [
            "<class 'int'>\n",
            "x is an integer type and its value is 5\n",
            "<class 'str'>\n",
            "y is string & the name of the string is jupiter\n"
          ]
        }
      ]
    },
    {
      "cell_type": "code",
      "source": [
        "fruits = [\"apple\", \"banana\" ,\"cherry\"]\n",
        "x, y, z = fruits\n",
        "print(x)\n",
        "print(y)\n",
        "print(z)"
      ],
      "metadata": {
        "colab": {
          "base_uri": "https://localhost:8080/"
        },
        "id": "_OnaXw7ChOGv",
        "outputId": "d0f27235-789c-4b90-e238-2d336ccd3d27"
      },
      "execution_count": null,
      "outputs": [
        {
          "output_type": "stream",
          "name": "stdout",
          "text": [
            "apple\n",
            "banana\n",
            "cherry\n"
          ]
        }
      ]
    },
    {
      "cell_type": "code",
      "source": [
        "x = \"Python\"\n",
        "y = \"is\"\n",
        "z = \"awesome\"\n",
        "print(x +' '+ y+' ' +' ' +z)\n"
      ],
      "metadata": {
        "colab": {
          "base_uri": "https://localhost:8080/"
        },
        "id": "RQ22u_Kf4TfZ",
        "outputId": "f72f3b88-3842-45a9-fd77-3a999517a15b"
      },
      "execution_count": null,
      "outputs": [
        {
          "output_type": "stream",
          "name": "stdout",
          "text": [
            "Python is  awesome\n"
          ]
        }
      ]
    }
  ]
}