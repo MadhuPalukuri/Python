{
  "nbformat": 4,
  "nbformat_minor": 0,
  "metadata": {
    "colab": {
      "provenance": []
    },
    "kernelspec": {
      "name": "python3",
      "display_name": "Python 3"
    },
    "language_info": {
      "name": "python"
    }
  },
  "cells": [
    {
      "cell_type": "code",
      "execution_count": 2,
      "metadata": {
        "id": "kNRz40UyZ2OC"
      },
      "outputs": [],
      "source": [
        "a = 50\n",
        "b = 10\n",
        "if a==b:\n",
        "    print(\"Hello World\")\n"
      ]
    },
    {
      "cell_type": "code",
      "source": [
        "a = 10\n",
        "b = 10\n",
        "if a==b:\n",
        "    print(\"Hello World\")\n",
        "\n"
      ],
      "metadata": {
        "colab": {
          "base_uri": "https://localhost:8080/"
        },
        "id": "s8u1TQQ0bxmo",
        "outputId": "a7da402b-9432-4993-af6f-9a0ac7ffcb72"
      },
      "execution_count": 3,
      "outputs": [
        {
          "output_type": "stream",
          "name": "stdout",
          "text": [
            "Hello World\n"
          ]
        }
      ]
    },
    {
      "cell_type": "code",
      "source": [
        "if 5 > 2:\n",
        "   print(\"Yes\")\n",
        "else:\n",
        "  print(\"No\")"
      ],
      "metadata": {
        "colab": {
          "base_uri": "https://localhost:8080/"
        },
        "id": "Hl1vD3PBdhNJ",
        "outputId": "549ec086-f763-481b-b314-76b7257ba346"
      },
      "execution_count": 4,
      "outputs": [
        {
          "output_type": "stream",
          "name": "stdout",
          "text": [
            "Yes "
          ]
        }
      ]
    },
    {
      "cell_type": "code",
      "source": [
        "n = int(input())\n",
        "i = 0\n",
        "sum = 0\n",
        "count = 0\n",
        "while i <= n:\n",
        "  print(f\"{i}th iteration:\",i)\n",
        "  i += 1\n",
        "  count += 1\n",
        "  sum = sum + i\n",
        "  #print(\"No of operations performed by i:\", count)\n",
        "\n",
        "print()\n",
        "print(\"No of operations performed by i:\", count)\n",
        "\n"
      ],
      "metadata": {
        "colab": {
          "base_uri": "https://localhost:8080/"
        },
        "id": "ZHmaECVSee1i",
        "outputId": "a5cc6f8b-3c9e-40e9-bf55-0a566b929f67"
      },
      "execution_count": 36,
      "outputs": [
        {
          "output_type": "stream",
          "name": "stdout",
          "text": [
            "10\n",
            "0th iteration: 0\n",
            "1th iteration: 1\n",
            "2th iteration: 2\n",
            "3th iteration: 3\n",
            "4th iteration: 4\n",
            "5th iteration: 5\n",
            "6th iteration: 6\n",
            "7th iteration: 7\n",
            "8th iteration: 8\n",
            "9th iteration: 9\n",
            "10th iteration: 10\n",
            "\n",
            "No of operations performed by i: 11\n"
          ]
        }
      ]
    },
    {
      "cell_type": "code",
      "source": [
        "\"\"\"\n",
        "1) program to print first 50 even numbers and count the of operations?\n",
        "sol:\n",
        "1. accept the input from user\n",
        "2.initialise the count=0\n",
        "3.ntialise the iterate value i=0\n",
        "4.define the condition in while loop\n",
        "5.define if condition to check iterator value is even or odd?\n",
        "6.print i value for each iteration if condition is true(i.e; even number)\n",
        "7.fpr each iteration we consider count =1( condition: count+=1)\n",
        "8.print the consolidated count value\n",
        "\n",
        "\"\"\"\n",
        "n=int(input())\n",
        "count=0\n",
        "i=1\n",
        "while i<=n:\n",
        "  if (i%2==1):\n",
        "    print(i)\n",
        "  i+=1\n",
        "  count+=1\n",
        "print(count)\n"
      ],
      "metadata": {
        "colab": {
          "base_uri": "https://localhost:8080/"
        },
        "id": "2ns9PoEvv2Tj",
        "outputId": "ce2fd7b9-5cf3-485c-b906-77361db58b5e"
      },
      "execution_count": 44,
      "outputs": [
        {
          "output_type": "stream",
          "name": "stdout",
          "text": [
            "10\n",
            "1\n",
            "3\n",
            "5\n",
            "7\n",
            "9\n",
            "10\n"
          ]
        }
      ]
    },
    {
      "cell_type": "code",
      "source": [
        "n=int(input())\n",
        "i=1\n",
        "sum = 1\n",
        "while i<=n:\n",
        "  if (i%2==0):\n",
        "    print(i)\n",
        "  sum = sum * i\n",
        "  i+=1\n",
        "print(sum)"
      ],
      "metadata": {
        "colab": {
          "base_uri": "https://localhost:8080/"
        },
        "id": "T3sCX3Kj2e2d",
        "outputId": "b39e0dbc-9879-41af-875f-e3eea5200f97"
      },
      "execution_count": 57,
      "outputs": [
        {
          "output_type": "stream",
          "name": "stdout",
          "text": [
            "10\n",
            "2\n",
            "4\n",
            "6\n",
            "8\n",
            "10\n",
            "3628800\n"
          ]
        }
      ]
    },
    {
      "cell_type": "code",
      "source": [
        "n=int(input())\n",
        "i=0\n",
        "if(n%2==0):\n",
        "  print(\"number is even\")\n",
        "else:\n",
        "  print(\"number is odd\")\n",
        "\n"
      ],
      "metadata": {
        "colab": {
          "base_uri": "https://localhost:8080/"
        },
        "id": "HMUfUT4k1Dt7",
        "outputId": "33504587-b51c-42cd-a24d-12278f28ccc4"
      },
      "execution_count": 20,
      "outputs": [
        {
          "output_type": "stream",
          "name": "stdout",
          "text": [
            "11\n",
            "number is odd\n"
          ]
        }
      ]
    },
    {
      "cell_type": "code",
      "source": [
        "n=int(input())\n",
        "i=0\n",
        "count=0\n",
        "while i<=n:\n",
        "   if(n%2==0):\n",
        "    print(\"number is even\")\n",
        "    i+=1\n",
        "    count+=1\n",
        "print(i)\n",
        "print()\n",
        "print(count)\n",
        ""
      ],
      "metadata": {
        "colab": {
          "base_uri": "https://localhost:8080/"
        },
        "id": "T3gnttlBu_WK",
        "outputId": "36de3198-b5e5-4f48-fd39-2de4fffcd039"
      },
      "execution_count": 25,
      "outputs": [
        {
          "output_type": "stream",
          "name": "stdout",
          "text": [
            "2\n",
            "number is even\n",
            "number is even\n",
            "number is even\n",
            "3\n",
            "\n",
            "3\n"
          ]
        }
      ]
    },
    {
      "cell_type": "code",
      "source": [
        "n=int(input())\n",
        "i=0\n",
        "count=0\n",
        "while i<=n:\n",
        "   if(n%2!=0 ):\n",
        "    print(\"number is odd\")\n",
        "    i+=1\n",
        "    count+=1\n",
        "print(i)\n",
        "print()\n",
        "print(count)"
      ],
      "metadata": {
        "colab": {
          "base_uri": "https://localhost:8080/"
        },
        "id": "52Q7qcIddTtz",
        "outputId": "1b141930-ddf9-4e4d-d603-68104c372c0d"
      },
      "execution_count": 29,
      "outputs": [
        {
          "output_type": "stream",
          "name": "stdout",
          "text": [
            "3\n",
            "number is odd\n",
            "number is odd\n",
            "number is odd\n",
            "number is odd\n",
            "4\n",
            "\n",
            "4\n"
          ]
        }
      ]
    },
    {
      "cell_type": "code",
      "source": [
        "x = 5\n",
        "y = 10\n",
        "z = x + y\n",
        "print(z)"
      ],
      "metadata": {
        "colab": {
          "base_uri": "https://localhost:8080/"
        },
        "id": "cyIIyz3flJBk",
        "outputId": "170542e4-ad7c-4d14-bf1d-d799b744434d"
      },
      "execution_count": 47,
      "outputs": [
        {
          "output_type": "stream",
          "name": "stdout",
          "text": [
            "15\n"
          ]
        }
      ]
    },
    {
      "cell_type": "code",
      "source": [
        "#to print the length of string\n",
        "x = input()\n",
        "print(len(x))"
      ],
      "metadata": {
        "colab": {
          "base_uri": "https://localhost:8080/"
        },
        "id": "pCaYZWktnJyP",
        "outputId": "9ba8827c-dedb-4b3b-ae38-2f2254890555"
      },
      "execution_count": 54,
      "outputs": [
        {
          "output_type": "stream",
          "name": "stdout",
          "text": [
            "hello\n",
            "5\n"
          ]
        }
      ]
    }
  ]
}