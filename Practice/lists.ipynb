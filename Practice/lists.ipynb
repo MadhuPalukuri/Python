{
  "nbformat": 4,
  "nbformat_minor": 0,
  "metadata": {
    "colab": {
      "provenance": []
    },
    "kernelspec": {
      "name": "python3",
      "display_name": "Python 3"
    },
    "language_info": {
      "name": "python"
    }
  },
  "cells": [
    {
      "cell_type": "code",
      "execution_count": 1,
      "metadata": {
        "colab": {
          "base_uri": "https://localhost:8080/"
        },
        "id": "S5rR5OYmiYRw",
        "outputId": "a2a4d717-e598-4ee5-ec05-cef6b43bd3f8"
      },
      "outputs": [
        {
          "output_type": "stream",
          "name": "stdout",
          "text": [
            "['apple', 'banana', 'cherry', 'apple', 'cherry']\n",
            "137614089364288\n"
          ]
        }
      ],
      "source": [
        "fruits = [\"apple\", \"banana\", \"cherry\", \"apple\", \"cherry\"]\n",
        "print(fruits)\n",
        "print(id(fruits))\n"
      ]
    },
    {
      "cell_type": "code",
      "source": [
        "fruits = [\"apple\", \"banana\", \"cherry\", \"apple\", \"cherry\"]\n",
        "print(fruits)\n",
        "print(id(fruits))\n",
        "print(len(fruits))\n",
        "print(fruits[2])\n",
        "\n"
      ],
      "metadata": {
        "colab": {
          "base_uri": "https://localhost:8080/"
        },
        "id": "vgDcswJTi9aY",
        "outputId": "65f81ea9-d018-404b-b080-cb119d0b9602"
      },
      "execution_count": 10,
      "outputs": [
        {
          "output_type": "stream",
          "name": "stdout",
          "text": [
            "['apple', 'banana', 'cherry', 'apple', 'cherry']\n",
            "137613590375232\n",
            "5\n",
            "cherry\n"
          ]
        }
      ]
    },
    {
      "cell_type": "code",
      "source": [
        "list1 = [\"apple\", \"banana\", \"cherry\"]\n",
        "print(list1)\n",
        "print(id(list1))\n",
        "list2 = [1, 5, 7, 9, 3]\n",
        "print(list2)\n",
        "print(id(list2))\n",
        "list3 = [True, False, False]\n",
        "print(list3)\n",
        "print(len(list3))\n"
      ],
      "metadata": {
        "colab": {
          "base_uri": "https://localhost:8080/"
        },
        "id": "cRbA_eeykWAs",
        "outputId": "dddb138f-9877-430f-dd28-ac409a28a1cc"
      },
      "execution_count": 14,
      "outputs": [
        {
          "output_type": "stream",
          "name": "stdout",
          "text": [
            "['apple', 'banana', 'cherry']\n",
            "137613230311040\n",
            "[1, 5, 7, 9, 3]\n",
            "137613230505920\n",
            "[True, False, False]\n",
            "3\n"
          ]
        }
      ]
    },
    {
      "cell_type": "code",
      "source": [
        "list1 = [\"apple\", \"banana\", \"cherry\"]\n",
        "print(\"elements in 1st list are:\",list1)\n",
        "print(\"2nd element in list1 is:\",list1[2])\n",
        "print(\"id of 2nd element in list1:\",id(list1[2]))\n",
        "print(id(list1))\n",
        "print()\n",
        "list2 = [1, 5, 7, 9, 3]\n",
        "print(\"elements in 2nd list:\",list2)\n",
        "print(\"4th element in list2:\",list2[4])\n",
        "print(\"id of 4th element in list2:\",id(list2[4]))\n",
        "print(id(list2))\n",
        "print()\n",
        "list3 = [True, False, False]\n",
        "print(list3)\n",
        "print(len(list3))\n",
        "print(id(list3))\n"
      ],
      "metadata": {
        "colab": {
          "base_uri": "https://localhost:8080/"
        },
        "id": "aAK7kY1Blmsq",
        "outputId": "81bc8c64-f886-4d33-b7a7-9ba821271824"
      },
      "execution_count": 19,
      "outputs": [
        {
          "output_type": "stream",
          "name": "stdout",
          "text": [
            "elements in 1st list are: ['apple', 'banana', 'cherry']\n",
            "2nd element in list1 is: cherry\n",
            "id of 2nd element in list1: 137614075084208\n",
            "137613230530112\n",
            "\n",
            "elements in 2nd list: [1, 5, 7, 9, 3]\n",
            "4th element in list2: 3\n",
            "id of 4th element in list2: 137614502740272\n",
            "137613230536640\n",
            "\n",
            "[True, False, False]\n",
            "3\n",
            "137613230196416\n"
          ]
        }
      ]
    },
    {
      "cell_type": "code",
      "source": [
        "l = [\"abc\", 34, True, 40, \"male\"]\n",
        "print(l)\n",
        "print(\"id of the list:\",id(l))\n",
        "print(\"length of the list:\",len(l))\n",
        "print(l[1],\",\",id(l[1]))\n",
        "print()\n",
        "print(l[0],\",\",id(l[0]))\n",
        "print(l[3],\",\",id(l[3]))"
      ],
      "metadata": {
        "colab": {
          "base_uri": "https://localhost:8080/"
        },
        "id": "VAvqMviJn8c_",
        "outputId": "27a39428-9b7a-4925-c315-6aa43eeb19ce"
      },
      "execution_count": 1,
      "outputs": [
        {
          "output_type": "stream",
          "name": "stdout",
          "text": [
            "['abc', 34, True, 40, 'male']\n",
            "id of the list: 138600358289792\n",
            "length of the list: 5\n",
            "34 , 138600786265360\n",
            "\n",
            "abc , 138600785072368\n",
            "40 , 138600786265552\n"
          ]
        }
      ]
    },
    {
      "cell_type": "code",
      "source": [
        "list1 = [\"abc\", 34, True, 40, \"male\"]\n",
        "print(list1)\n",
        "print(type(list1[0]))\n",
        "print(type(list1[1]))\n",
        "print(type(list1[2]))\n",
        "print(type(list1[3]))\n",
        "print(type(list1[4]))"
      ],
      "metadata": {
        "colab": {
          "base_uri": "https://localhost:8080/"
        },
        "id": "zpFWeTGTty4o",
        "outputId": "1944a8f8-2cd9-49b8-dd26-ba249d66d048"
      },
      "execution_count": 28,
      "outputs": [
        {
          "output_type": "stream",
          "name": "stdout",
          "text": [
            "['abc', 34, True, 40, 'male']\n",
            "<class 'str'>\n",
            "<class 'int'>\n",
            "<class 'bool'>\n",
            "<class 'int'>\n",
            "<class 'str'>\n"
          ]
        }
      ]
    },
    {
      "cell_type": "code",
      "source": [
        "list1 = [\"abc\", 34, True, 40, \"male\"]\n",
        "print(int(len(list1[0])))"
      ],
      "metadata": {
        "colab": {
          "base_uri": "https://localhost:8080/"
        },
        "id": "oPuOKYDQu51i",
        "outputId": "d30ec35f-c159-4528-d63a-b82211a9429f"
      },
      "execution_count": 33,
      "outputs": [
        {
          "output_type": "stream",
          "name": "stdout",
          "text": [
            "3\n"
          ]
        }
      ]
    },
    {
      "cell_type": "code",
      "source": [
        "colours = [\"red\", \"yellow\", \"green\", \"orange\", \"white\"]\n",
        "print(colours[-1])\n",
        "print(\"length is:\",len(colours[-1]))\n",
        "print(\"id is:\",id(colours[-1]))\n",
        "print(colours[-4])\n",
        "print(colours[3])\n"
      ],
      "metadata": {
        "colab": {
          "base_uri": "https://localhost:8080/"
        },
        "id": "ETLyzLoyvqMw",
        "outputId": "36cd6728-d0d9-429d-bd32-3a51303eab25"
      },
      "execution_count": 38,
      "outputs": [
        {
          "output_type": "stream",
          "name": "stdout",
          "text": [
            "white\n",
            "length is: 5\n",
            "id is: 137614367842544\n",
            "yellow\n",
            "orange\n"
          ]
        }
      ]
    },
    {
      "cell_type": "code",
      "source": [
        "#program to specify the range of the elements in list\n",
        "thislist = [\"apple\", \"banana\", \"cherry\", \"orange\", \"kiwi\", \"melon\", \"mango\"]\n",
        "print(thislist[2:5+1])"
      ],
      "metadata": {
        "colab": {
          "base_uri": "https://localhost:8080/"
        },
        "id": "iTalXaopwsiz",
        "outputId": "dc921a26-eb84-4585-d767-021b0b6b74b4"
      },
      "execution_count": 40,
      "outputs": [
        {
          "output_type": "stream",
          "name": "stdout",
          "text": [
            "['cherry', 'orange', 'kiwi', 'melon']\n"
          ]
        }
      ]
    },
    {
      "cell_type": "code",
      "source": [
        "thislist = [\"apple\", \"banana\", \"cherry\", \"orange\", \"kiwi\", \"melon\", \"mango\"]\n",
        "print(thislist[:4])"
      ],
      "metadata": {
        "colab": {
          "base_uri": "https://localhost:8080/"
        },
        "id": "QhUhRBwrxW0O",
        "outputId": "6435f581-9d25-427f-df46-0d197926c1e8"
      },
      "execution_count": 41,
      "outputs": [
        {
          "output_type": "stream",
          "name": "stdout",
          "text": [
            "['apple', 'banana', 'cherry', 'orange']\n"
          ]
        }
      ]
    },
    {
      "cell_type": "code",
      "source": [
        "thislist = [\"apple\", \"banana\", \"cherry\", \"orange\", \"kiwi\", \"melon\", \"mango\"]\n",
        "print(thislist[:4+1])"
      ],
      "metadata": {
        "colab": {
          "base_uri": "https://localhost:8080/"
        },
        "id": "wpnkuXDFxbj1",
        "outputId": "e64ce14a-d364-4955-a4b7-05e834c3962c"
      },
      "execution_count": 44,
      "outputs": [
        {
          "output_type": "stream",
          "name": "stdout",
          "text": [
            "['banana', 'cherry', 'orange', 'kiwi']\n"
          ]
        }
      ]
    },
    {
      "cell_type": "code",
      "source": [
        "thislist = [\"apple\", \"banana\", \"cherry\", \"orange\", \"kiwi\", \"melon\", \"mango\"]\n",
        "print(thislist[0:6+1])"
      ],
      "metadata": {
        "colab": {
          "base_uri": "https://localhost:8080/"
        },
        "id": "kDPzeNeExnPB",
        "outputId": "d2ba0cac-752d-4df5-b5e0-86695744434e"
      },
      "execution_count": 49,
      "outputs": [
        {
          "output_type": "stream",
          "name": "stdout",
          "text": [
            "['apple', 'banana', 'cherry', 'orange', 'kiwi', 'melon', 'mango']\n"
          ]
        }
      ]
    },
    {
      "cell_type": "code",
      "source": [
        "thislist = [\"apple\", \"banana\", \"cherry\", \"orange\", \"kiwi\", \"melon\", \"mango\"]\n",
        "print(thislist[2:])"
      ],
      "metadata": {
        "colab": {
          "base_uri": "https://localhost:8080/"
        },
        "id": "eMOO4WHyyhn3",
        "outputId": "e69d569d-f0d7-48e8-f5a2-6c7f08306e26"
      },
      "execution_count": 50,
      "outputs": [
        {
          "output_type": "stream",
          "name": "stdout",
          "text": [
            "['cherry', 'orange', 'kiwi', 'melon', 'mango']\n"
          ]
        }
      ]
    },
    {
      "cell_type": "code",
      "source": [
        "thislist = [\"apple\", \"banana\", \"cherry\", \"orange\", \"kiwi\", \"melon\", \"mango\"]\n",
        "print(thislist[-4:-2])"
      ],
      "metadata": {
        "colab": {
          "base_uri": "https://localhost:8080/"
        },
        "id": "Mb3axkwEy7hi",
        "outputId": "3f90fe7e-36ea-489f-ea28-22757831a66e"
      },
      "execution_count": 55,
      "outputs": [
        {
          "output_type": "stream",
          "name": "stdout",
          "text": [
            "['orange', 'kiwi']\n"
          ]
        }
      ]
    },
    {
      "cell_type": "code",
      "source": [
        "thislist = [\"apple\", \"banana\", \"cherry\"]\n",
        "thislist[1:3] = [\"blackcurrant\", \"watermelon\"]\n",
        "print(thislist)"
      ],
      "metadata": {
        "colab": {
          "base_uri": "https://localhost:8080/"
        },
        "id": "x9vAWPwRH7v5",
        "outputId": "03206140-84a0-4d6e-cd7b-2c9a4b90ddc6"
      },
      "execution_count": 3,
      "outputs": [
        {
          "output_type": "stream",
          "name": "stdout",
          "text": [
            "['apple', 'blackcurrant', 'watermelon']\n"
          ]
        }
      ]
    },
    {
      "cell_type": "code",
      "source": [
        "fruits = [\"apple\", \"banana\", \"cherry\",\"watermelon\"]\n",
        "fruits.append(\"orange\")\n",
        "print(fruits)"
      ],
      "metadata": {
        "colab": {
          "base_uri": "https://localhost:8080/"
        },
        "id": "SSVt7Na3VdnM",
        "outputId": "4fbac31a-63d7-49f3-f296-a6f954fdb93b"
      },
      "execution_count": 10,
      "outputs": [
        {
          "output_type": "stream",
          "name": "stdout",
          "text": [
            "['apple', 'banana', 'cherry', 'watermelon', 'orange']\n"
          ]
        }
      ]
    },
    {
      "cell_type": "code",
      "source": [
        "fruits = [\"apple\", \"banana\", \"cherry\",\"watermelon\"]\n",
        "fruits.insert(2,\"orange\")\n",
        "print(fruits)"
      ],
      "metadata": {
        "colab": {
          "base_uri": "https://localhost:8080/"
        },
        "id": "p05M0Gt-W6d1",
        "outputId": "c2d482c0-caa3-4cd5-b398-d8a9e95d14fe"
      },
      "execution_count": 11,
      "outputs": [
        {
          "output_type": "stream",
          "name": "stdout",
          "text": [
            "['apple', 'banana', 'orange', 'cherry', 'watermelon']\n"
          ]
        }
      ]
    },
    {
      "cell_type": "code",
      "source": [
        "a = [\"apple\", \"banana\", \"cherry\"]\n",
        "b = [\"mango\", \"pineapple\", \"papaya\"]\n",
        "a.extend(b)\n",
        "print(a)"
      ],
      "metadata": {
        "colab": {
          "base_uri": "https://localhost:8080/"
        },
        "id": "nwmJcFUzXK8q",
        "outputId": "4680917c-2a38-485b-bda1-300d177e66b4"
      },
      "execution_count": 12,
      "outputs": [
        {
          "output_type": "stream",
          "name": "stdout",
          "text": [
            "['apple', 'banana', 'cherry', 'mango', 'pineapple', 'papaya']\n"
          ]
        }
      ]
    },
    {
      "cell_type": "code",
      "source": [
        "a = [\"apple\", \"banana\", \"cherry\"]\n",
        "b = [\"mango\", \"pineapple\", \"papaya\"]\n",
        "a.insert(1 ,b)\n",
        "b.insert(2 ,a)\n",
        "print(a)\n",
        "print(b)"
      ],
      "metadata": {
        "colab": {
          "base_uri": "https://localhost:8080/"
        },
        "id": "2N7uDjNbXhlw",
        "outputId": "f0502ce8-8ba3-48e6-eb2a-1beb487a8376"
      },
      "execution_count": 2,
      "outputs": [
        {
          "output_type": "stream",
          "name": "stdout",
          "text": [
            "['apple', ['mango', 'pineapple', [...], 'papaya'], 'banana', 'cherry']\n",
            "['mango', 'pineapple', ['apple', [...], 'banana', 'cherry'], 'papaya']\n"
          ]
        }
      ]
    }
  ]
}