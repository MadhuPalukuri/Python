{
  "nbformat": 4,
  "nbformat_minor": 0,
  "metadata": {
    "colab": {
      "provenance": []
    },
    "kernelspec": {
      "name": "python3",
      "display_name": "Python 3"
    },
    "language_info": {
      "name": "python"
    }
  },
  "cells": [
    {
      "cell_type": "code",
      "execution_count": null,
      "metadata": {
        "colab": {
          "base_uri": "https://localhost:8080/"
        },
        "id": "yc4Jib7pEZr0",
        "outputId": "579b75c8-317a-43cb-c224-45774e6ad013"
      },
      "outputs": [
        {
          "output_type": "stream",
          "name": "stdout",
          "text": [
            "e\n",
            "!\n"
          ]
        }
      ],
      "source": [
        "a = \"hello!\"\n",
        "print(a[1])\n",
        "print(a[5])"
      ]
    },
    {
      "cell_type": "code",
      "source": [
        "x = 5\n",
        "print(type(x))"
      ],
      "metadata": {
        "colab": {
          "base_uri": "https://localhost:8080/"
        },
        "id": "v6tiAPKgF5QI",
        "outputId": "651fa491-eee4-403c-c491-b0ce58e774c5"
      },
      "execution_count": null,
      "outputs": [
        {
          "output_type": "stream",
          "name": "stdout",
          "text": [
            "<class 'int'>\n"
          ]
        }
      ]
    },
    {
      "cell_type": "code",
      "source": [
        "x= input()\n",
        "print(x[0])\n",
        "print(x[3])\n",
        "print(x[5])\n",
        "\n"
      ],
      "metadata": {
        "colab": {
          "base_uri": "https://localhost:8080/"
        },
        "id": "9hatHoHaGB63",
        "outputId": "1362f96e-bbdf-4e8c-8dcf-ad36fc768753"
      },
      "execution_count": null,
      "outputs": [
        {
          "output_type": "stream",
          "name": "stdout",
          "text": [
            "mercury\n",
            "m\n",
            "c\n",
            "r\n"
          ]
        }
      ]
    },
    {
      "cell_type": "code",
      "source": [
        "x= \"venus\"\n",
        "print(x[0])\n",
        "print(x[2])\n",
        "print(x[4])"
      ],
      "metadata": {
        "colab": {
          "base_uri": "https://localhost:8080/"
        },
        "id": "W2IEHbhgH8Rf",
        "outputId": "5f7fe5f3-e357-4d0d-c02d-1211b97ef342"
      },
      "execution_count": null,
      "outputs": [
        {
          "output_type": "stream",
          "name": "stdout",
          "text": [
            "v\n",
            "n\n",
            "s\n"
          ]
        }
      ]
    },
    {
      "cell_type": "code",
      "source": [
        "y=input()\n",
        "for i in y:\n",
        "  print(i)"
      ],
      "metadata": {
        "colab": {
          "base_uri": "https://localhost:8080/"
        },
        "id": "J4qOlRp7IVzq",
        "outputId": "11588dbe-d9ec-4f1d-cfd5-3c8ce4afa0fc"
      },
      "execution_count": null,
      "outputs": [
        {
          "output_type": "stream",
          "name": "stdout",
          "text": [
            "mobile\n",
            "m\n",
            "o\n",
            "b\n",
            "i\n",
            "l\n",
            "e\n"
          ]
        }
      ]
    },
    {
      "cell_type": "code",
      "source": [
        "y=\"medha\"\n",
        "for i in y:\n",
        "  print(i)"
      ],
      "metadata": {
        "colab": {
          "base_uri": "https://localhost:8080/"
        },
        "id": "2TgdnBy_LB04",
        "outputId": "9b4d8e7e-92e8-43de-a537-d4168132ab74"
      },
      "execution_count": null,
      "outputs": [
        {
          "output_type": "stream",
          "name": "stdout",
          "text": [
            "m\n",
            "e\n",
            "d\n",
            "h\n",
            "a\n"
          ]
        }
      ]
    },
    {
      "cell_type": "code",
      "source": [
        "x = int(input())\n",
        "for i in range(1,x,2):\n",
        "  print(i)"
      ],
      "metadata": {
        "colab": {
          "base_uri": "https://localhost:8080/"
        },
        "id": "QUvhJd0cLMAi",
        "outputId": "e5190eca-1cab-433d-ec05-6eb5002c166e"
      },
      "execution_count": null,
      "outputs": [
        {
          "output_type": "stream",
          "name": "stdout",
          "text": [
            "10\n",
            "1\n",
            "3\n",
            "5\n",
            "7\n",
            "9\n"
          ]
        }
      ]
    },
    {
      "cell_type": "code",
      "source": [
        "x = int(input())\n",
        "for i in range(1,x,2):\n",
        "  print(i,end=',')"
      ],
      "metadata": {
        "colab": {
          "base_uri": "https://localhost:8080/"
        },
        "id": "d3G_uWX7MTMU",
        "outputId": "bebd2ca6-75a4-46ad-971a-cb5892bd54f4"
      },
      "execution_count": null,
      "outputs": [
        {
          "output_type": "stream",
          "name": "stdout",
          "text": [
            "22\n",
            "1,3,5,7,9,11,13,15,17,19,21,"
          ]
        }
      ]
    },
    {
      "cell_type": "code",
      "source": [
        "x = int(56)\n",
        "for i in range(1,x+1,2):\n",
        "  print(i,end=',')"
      ],
      "metadata": {
        "colab": {
          "base_uri": "https://localhost:8080/"
        },
        "id": "KesR0wyRMrNQ",
        "outputId": "0483bdf0-5243-4026-a53e-d5e19a644d0c"
      },
      "execution_count": null,
      "outputs": [
        {
          "output_type": "stream",
          "name": "stdout",
          "text": [
            "1,3,5,7,9,11,13,15,17,19,21,23,25,27,29,31,33,35,37,39,41,43,45,47,49,51,53,55,"
          ]
        }
      ]
    },
    {
      "cell_type": "code",
      "source": [
        "s ='wish'\n",
        "\n",
        "if s == \"hello\":\n",
        "    print(\"Hi\")\n",
        "print(\"After the if\")"
      ],
      "metadata": {
        "colab": {
          "base_uri": "https://localhost:8080/"
        },
        "id": "E85yKEErNXcF",
        "outputId": "aa622e51-3a4d-45e4-99ff-806403943353"
      },
      "execution_count": null,
      "outputs": [
        {
          "output_type": "stream",
          "name": "stdout",
          "text": [
            "After the if\n"
          ]
        }
      ]
    },
    {
      "cell_type": "code",
      "source": [
        "s = \"speaker\"\n",
        "if s== \"music\":\n",
        "  print(\"song\")\n",
        "print(\"singer\")\n"
      ],
      "metadata": {
        "colab": {
          "base_uri": "https://localhost:8080/"
        },
        "id": "s_wXwH0CPHNp",
        "outputId": "1124a2de-fa03-4197-b6f2-b80085c94e21"
      },
      "execution_count": null,
      "outputs": [
        {
          "output_type": "stream",
          "name": "stdout",
          "text": [
            "singer\n"
          ]
        }
      ]
    },
    {
      "cell_type": "code",
      "source": [
        "charge= int(input())\n",
        "if charge >=10:\n",
        "  print(\"battery full\")\n",
        "else:\n",
        "  print(\"battery low\")"
      ],
      "metadata": {
        "colab": {
          "base_uri": "https://localhost:8080/"
        },
        "id": "phovOE4IRJBm",
        "outputId": "e5c3db87-14ed-4dd2-e634-a0bff7a9eb0b"
      },
      "execution_count": null,
      "outputs": [
        {
          "output_type": "stream",
          "name": "stdout",
          "text": [
            "79\n",
            "battery full\n"
          ]
        }
      ]
    },
    {
      "cell_type": "code",
      "source": [
        "weather = input()\n",
        "if weather ==\"hot\":\n",
        "  print('summer')\n",
        "elif weather ==\"rainy\":\n",
        "  print('rainy season')\n",
        "elif weather ==\"cold\":\n",
        "  print('winter')\n",
        "else:\n",
        "  print('monsoon')"
      ],
      "metadata": {
        "colab": {
          "base_uri": "https://localhost:8080/"
        },
        "id": "5uwBGIv7XwSo",
        "outputId": "53aef91e-1fdb-42d3-ea07-cbf5402faa1e"
      },
      "execution_count": null,
      "outputs": [
        {
          "output_type": "stream",
          "name": "stdout",
          "text": [
            "chill\n",
            "monsoon\n"
          ]
        }
      ]
    },
    {
      "cell_type": "code",
      "source": [
        "weather = input()\n",
        "if weather ==\"hot\":\n",
        "  print('summer')\n",
        "elif weather ==\"rainy\":\n",
        "  print('rainy season')\n",
        "elif weather ==\"cold\":\n",
        "  print('winter')\n",
        "else:\n",
        "  print('monsoon')"
      ],
      "metadata": {
        "colab": {
          "base_uri": "https://localhost:8080/"
        },
        "id": "Mboj3tRsZ54Q",
        "outputId": "097c78f3-437a-489a-fe5f-35319f4acdfe"
      },
      "execution_count": null,
      "outputs": [
        {
          "output_type": "stream",
          "name": "stdout",
          "text": [
            "rainy\n",
            "rainy season\n"
          ]
        }
      ]
    },
    {
      "cell_type": "code",
      "source": [
        "a=1\n",
        "b=1\n",
        "c=0\n",
        "if (a and b):\n",
        "    print(\"Scaler is awesome\")\n",
        "\n",
        "if (a and b and c):\n",
        "    print(\"Python is amazing\")\n",
        "\n",
        "if (a or b or c):\n",
        "    print(\"I love DS\")\n",
        "else:\n",
        "    print(\"Hi there\")"
      ],
      "metadata": {
        "colab": {
          "base_uri": "https://localhost:8080/"
        },
        "id": "GjQQZOO0bzo1",
        "outputId": "ee4ba5fc-2805-4a7f-aaf5-1903ff4449f4"
      },
      "execution_count": null,
      "outputs": [
        {
          "output_type": "stream",
          "name": "stdout",
          "text": [
            "Scaler is awesome\n",
            "I love DS\n"
          ]
        }
      ]
    }
  ]
}