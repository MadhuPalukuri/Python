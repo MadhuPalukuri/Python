{
  "nbformat": 4,
  "nbformat_minor": 0,
  "metadata": {
    "colab": {
      "provenance": [],
      "toc_visible": true
    },
    "kernelspec": {
      "name": "python3",
      "display_name": "Python 3"
    },
    "language_info": {
      "name": "python"
    }
  },
  "cells": [
    {
      "cell_type": "code",
      "execution_count": null,
      "metadata": {
        "id": "Ki575D8D4Iwu"
      },
      "outputs": [],
      "source": [
        "https://colab.research.google.com/drive/1GZ4E9Sb6KgfQ9Ghy_B2LZeFIrXcV88GH\n",
        "\n",
        "https://www.python.org/downloads/\n",
        "\n",
        "w3schools.com/python/"
      ]
    },
    {
      "cell_type": "code",
      "source": [
        "#This program will indicates the print functionality\n",
        "print() # function\n",
        "print(\"Hi welcome to pyhton!!!\")"
      ],
      "metadata": {
        "colab": {
          "base_uri": "https://localhost:8080/"
        },
        "id": "J-FUeEhN4Xoq",
        "outputId": "345e358a-2705-427f-9972-d37e7b4e41c3"
      },
      "execution_count": null,
      "outputs": [
        {
          "output_type": "stream",
          "name": "stdout",
          "text": [
            "\n",
            "Hi welcome to pyhton!!!\n"
          ]
        }
      ]
    },
    {
      "cell_type": "code",
      "source": [
        "#checking the identatiaon errors\n",
        "print() # function\n",
        "print(\"Hi welcome to pyhton!!!\")"
      ],
      "metadata": {
        "colab": {
          "base_uri": "https://localhost:8080/",
          "height": 141
        },
        "id": "3jYtDrCn5kBh",
        "outputId": "3ac2113a-ea93-44c6-866f-fe5e1eee5c7c"
      },
      "execution_count": null,
      "outputs": [
        {
          "output_type": "error",
          "ename": "IndentationError",
          "evalue": "ignored",
          "traceback": [
            "\u001b[0;36m  File \u001b[0;32m\"<ipython-input-7-d08ad696d9c6>\"\u001b[0;36m, line \u001b[0;32m2\u001b[0m\n\u001b[0;31m    print(\"Hi welcome to pyhton!!!\")\u001b[0m\n\u001b[0m    ^\u001b[0m\n\u001b[0;31mIndentationError\u001b[0m\u001b[0;31m:\u001b[0m unexpected indent\n"
          ]
        }
      ]
    },
    {
      "cell_type": "code",
      "source": [
        "print(\"hello welcome\")\n",
        "#pgvjbhrtohro;gvhro;fhow"
      ],
      "metadata": {
        "colab": {
          "base_uri": "https://localhost:8080/"
        },
        "id": "E4NzjtTM54aX",
        "outputId": "0ebb1216-9272-4593-8796-94481c744e94"
      },
      "execution_count": null,
      "outputs": [
        {
          "output_type": "stream",
          "name": "stdout",
          "text": [
            "hello welcome\n"
          ]
        }
      ]
    },
    {
      "cell_type": "code",
      "source": [
        "print(\"hello welcome\")\n",
        "pgvjbhrtohro;gvhro;fhow"
      ],
      "metadata": {
        "colab": {
          "base_uri": "https://localhost:8080/",
          "height": 211
        },
        "id": "7Tzuy-QT6R8v",
        "outputId": "8ced0b37-6438-4c0f-dbaa-36fe740eb2a7"
      },
      "execution_count": null,
      "outputs": [
        {
          "output_type": "stream",
          "name": "stdout",
          "text": [
            "hello welcome\n"
          ]
        },
        {
          "output_type": "error",
          "ename": "NameError",
          "evalue": "ignored",
          "traceback": [
            "\u001b[0;31m---------------------------------------------------------------------------\u001b[0m",
            "\u001b[0;31mNameError\u001b[0m                                 Traceback (most recent call last)",
            "\u001b[0;32m<ipython-input-14-2b368307a5a4>\u001b[0m in \u001b[0;36m<cell line: 2>\u001b[0;34m()\u001b[0m\n\u001b[1;32m      1\u001b[0m \u001b[0mprint\u001b[0m\u001b[0;34m(\u001b[0m\u001b[0;34m\"hello welcome\"\u001b[0m\u001b[0;34m)\u001b[0m\u001b[0;34m\u001b[0m\u001b[0;34m\u001b[0m\u001b[0m\n\u001b[0;32m----> 2\u001b[0;31m \u001b[0mpgvjbhrtohro\u001b[0m\u001b[0;34m;\u001b[0m\u001b[0mgvhro\u001b[0m\u001b[0;34m;\u001b[0m\u001b[0mfhow\u001b[0m\u001b[0;34m\u001b[0m\u001b[0;34m\u001b[0m\u001b[0m\n\u001b[0m",
            "\u001b[0;31mNameError\u001b[0m: name 'pgvjbhrtohro' is not defined"
          ]
        }
      ]
    },
    {
      "cell_type": "code",
      "source": [
        "\"\"\"\n",
        "lgnoehoehboit\n",
        "lvrloearolierahbe\n",
        "\n",
        "kborhgorehgoier\n",
        "kiuwiovhrojv\n",
        "\"\"\"\n",
        "print(\"Hi Teja\")"
      ],
      "metadata": {
        "colab": {
          "base_uri": "https://localhost:8080/"
        },
        "id": "fIH15qj36xT6",
        "outputId": "204fd010-3cb4-4fe1-c241-86f56a07e126"
      },
      "execution_count": null,
      "outputs": [
        {
          "output_type": "stream",
          "name": "stdout",
          "text": [
            "Hi Teja\n"
          ]
        }
      ]
    },
    {
      "cell_type": "code",
      "source": [
        "#fififiufigigudyduf\n",
        "#iohfoehorihe\n",
        "##lgnoehoehboit\n",
        "#lvrloearolierahbe\n",
        "\n",
        "#kborhgorehgoier\n",
        "#kiuwiovhrojv\n",
        "#'''\n",
        "print(\"Hi Teja\")"
      ],
      "metadata": {
        "colab": {
          "base_uri": "https://localhost:8080/",
          "height": 141
        },
        "id": "N_IIDdTe7BgM",
        "outputId": "9ffacaff-8684-4b6b-c29d-b07c4261886b"
      },
      "execution_count": null,
      "outputs": [
        {
          "output_type": "error",
          "ename": "SyntaxError",
          "evalue": "ignored",
          "traceback": [
            "\u001b[0;36m  File \u001b[0;32m\"<ipython-input-20-777049f13914>\"\u001b[0;36m, line \u001b[0;32m8\u001b[0m\n\u001b[0;31m    '''\u001b[0m\n\u001b[0m    ^\u001b[0m\n\u001b[0;31mSyntaxError\u001b[0m\u001b[0;31m:\u001b[0m incomplete input\n"
          ]
        }
      ]
    },
    {
      "cell_type": "code",
      "source": [
        "\"\"\"\n",
        "below program will describe the how to print in python??\n",
        "print hi teja statement in print function\n",
        "\"\"\"\n",
        "print(\"Hi Teja\")"
      ],
      "metadata": {
        "colab": {
          "base_uri": "https://localhost:8080/"
        },
        "id": "NmgLMDzN7zUQ",
        "outputId": "774f1ecc-e043-4051-d44f-98eb569df6c6"
      },
      "execution_count": null,
      "outputs": [
        {
          "output_type": "stream",
          "name": "stdout",
          "text": [
            "Hi Teja\n"
          ]
        }
      ]
    },
    {
      "cell_type": "code",
      "source": [
        "'''\n",
        "below program will describe the how to print in python??\n",
        "print hi teja statement in print function\n",
        "'''\n",
        "print(\"Hi Teja\")"
      ],
      "metadata": {
        "colab": {
          "base_uri": "https://localhost:8080/"
        },
        "id": "nzYPBIn28NXj",
        "outputId": "439f2306-d8b7-4fee-ab5a-64899137eacd"
      },
      "execution_count": null,
      "outputs": [
        {
          "output_type": "stream",
          "name": "stdout",
          "text": [
            "Hi Teja\n"
          ]
        }
      ]
    },
    {
      "cell_type": "code",
      "source": [
        "'''\n",
        "below program will describe the how to print in python??\n",
        "print hi teja statement in print function\n",
        "'''\n",
        "print('Hi Teja')"
      ],
      "metadata": {
        "colab": {
          "base_uri": "https://localhost:8080/"
        },
        "id": "MBuuLD4r8T23",
        "outputId": "f9bf73b6-8544-4d4f-e0b5-527fcfd745bf"
      },
      "execution_count": null,
      "outputs": [
        {
          "output_type": "stream",
          "name": "stdout",
          "text": [
            "Hi Teja\n"
          ]
        }
      ]
    },
    {
      "cell_type": "code",
      "source": [
        "'''\n",
        "below program will describe the how to print in python??\n",
        "print hi teja statement in print function\n",
        "'''\n",
        "print(\"Hi Teja\") #you can write anything"
      ],
      "metadata": {
        "colab": {
          "base_uri": "https://localhost:8080/"
        },
        "id": "pmf3K11b8c6B",
        "outputId": "3cfc90dc-607a-4ac2-ae67-98824c6c2755"
      },
      "execution_count": null,
      "outputs": [
        {
          "output_type": "stream",
          "name": "stdout",
          "text": [
            "Hi Teja\n"
          ]
        }
      ]
    },
    {
      "cell_type": "code",
      "source": [
        "print(input())"
      ],
      "metadata": {
        "colab": {
          "base_uri": "https://localhost:8080/"
        },
        "id": "57Z6zckj9bxz",
        "outputId": "0c207113-823e-437c-d37d-1f138a0e8262"
      },
      "execution_count": null,
      "outputs": [
        {
          "output_type": "stream",
          "name": "stdout",
          "text": [
            "hi madhu\n",
            "hi madhu\n"
          ]
        }
      ]
    },
    {
      "cell_type": "code",
      "source": [
        "print(input(\"Hi madhu\"))"
      ],
      "metadata": {
        "colab": {
          "base_uri": "https://localhost:8080/"
        },
        "id": "tCF7hFCK9xQm",
        "outputId": "2375d788-9cbc-428c-f74b-a67e8a4e5d81"
      },
      "execution_count": null,
      "outputs": [
        {
          "output_type": "stream",
          "name": "stdout",
          "text": [
            "Hi madhukishore\n",
            "kishore\n"
          ]
        }
      ]
    },
    {
      "cell_type": "code",
      "source": [
        "print(input())\n",
        "print(input())"
      ],
      "metadata": {
        "colab": {
          "base_uri": "https://localhost:8080/"
        },
        "id": "3nl1KhUg-YF5",
        "outputId": "ebf4bf71-dc64-4003-a319-e52be0c3464c"
      },
      "execution_count": null,
      "outputs": [
        {
          "output_type": "stream",
          "name": "stdout",
          "text": [
            "madhu\n",
            "madhu\n",
            "kishore\n",
            "kishore\n"
          ]
        }
      ]
    },
    {
      "cell_type": "code",
      "source": [
        "print(\"madhu\"      )"
      ],
      "metadata": {
        "id": "kdQB3WSS-l3m",
        "colab": {
          "base_uri": "https://localhost:8080/"
        },
        "outputId": "d27c54b8-c782-44a8-afa4-5c3b97c1b6aa"
      },
      "execution_count": null,
      "outputs": [
        {
          "output_type": "stream",
          "name": "stdout",
          "text": [
            "madhu\n"
          ]
        }
      ]
    },
    {
      "cell_type": "code",
      "source": [
        "input()"
      ],
      "metadata": {
        "colab": {
          "base_uri": "https://localhost:8080/",
          "height": 52
        },
        "id": "bAkLw8THAMlz",
        "outputId": "48f4d98e-8080-4d71-bd35-e65e6ea9661d"
      },
      "execution_count": null,
      "outputs": [
        {
          "name": "stdout",
          "output_type": "stream",
          "text": [
            "madhu\n"
          ]
        },
        {
          "output_type": "execute_result",
          "data": {
            "text/plain": [
              "'madhu'"
            ],
            "application/vnd.google.colaboratory.intrinsic+json": {
              "type": "string"
            }
          },
          "metadata": {},
          "execution_count": 42
        }
      ]
    },
    {
      "cell_type": "code",
      "source": [
        "n = input()\n",
        "print(n)\n",
        "print(name)\n",
        "print(name)"
      ],
      "metadata": {
        "colab": {
          "base_uri": "https://localhost:8080/"
        },
        "id": "O3C_FSCnA6M6",
        "outputId": "648b6e80-2fbc-44a7-ae57-82f2b04f3c36"
      },
      "execution_count": null,
      "outputs": [
        {
          "output_type": "stream",
          "name": "stdout",
          "text": [
            "teja\n",
            "teja\n",
            "rama raju\n",
            "rama raju\n"
          ]
        }
      ]
    }
  ]
}