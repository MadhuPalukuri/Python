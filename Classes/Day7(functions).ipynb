{
  "nbformat": 4,
  "nbformat_minor": 0,
  "metadata": {
    "colab": {
      "provenance": []
    },
    "kernelspec": {
      "name": "python3",
      "display_name": "Python 3"
    },
    "language_info": {
      "name": "python"
    }
  },
  "cells": [
    {
      "cell_type": "code",
      "execution_count": null,
      "metadata": {
        "colab": {
          "base_uri": "https://localhost:8080/"
        },
        "id": "2sxkw22TLY-j",
        "outputId": "a7afb83b-4f20-4201-f165-ba7d745a7453"
      },
      "outputs": [
        {
          "output_type": "stream",
          "name": "stdout",
          "text": [
            "15\n"
          ]
        }
      ],
      "source": [
        "a = 10\n",
        "b = 15\n",
        "print(max(10,15))"
      ]
    },
    {
      "cell_type": "code",
      "source": [
        "a = 10\n",
        "b = 15\n",
        "print(min(10,15))"
      ],
      "metadata": {
        "colab": {
          "base_uri": "https://localhost:8080/"
        },
        "id": "d2odjcE5L2RH",
        "outputId": "4f79b725-2eb2-442a-d537-7ba71d643662"
      },
      "execution_count": null,
      "outputs": [
        {
          "output_type": "stream",
          "name": "stdout",
          "text": [
            "10\n"
          ]
        }
      ]
    },
    {
      "cell_type": "code",
      "source": [
        "range()\n",
        "print()"
      ],
      "metadata": {
        "id": "b25jg0w_L7TA"
      },
      "execution_count": null,
      "outputs": []
    },
    {
      "cell_type": "code",
      "source": [
        "#Functions"
      ],
      "metadata": {
        "id": "7yJ2gQexMBv7"
      },
      "execution_count": null,
      "outputs": []
    },
    {
      "cell_type": "code",
      "source": [
        "print(\"Boil some water\")\n",
        "print(\"Add some tea leaves, sugar and milk\")\n",
        "print(\"Heat it for a few mins\")\n",
        "\n",
        "print(\"Boil some water\")\n",
        "print(\"Add some tea leaves, sugar, ginger and milk\")\n",
        "print(\"Heat it for a few mins\")\n",
        "\n",
        "print(\"Boil some water\")\n",
        "print(\"Add some tea leaves, sugar and milk\")\n",
        "print(\"Heat it for a few mins\")\n",
        "\n",
        "print(\"Boil some milk\")\n",
        "print(\"Add coffee powder\")\n",
        "\n",
        "print(\"Boil some water\")\n",
        "print(\"Add some tea leaves, sugar and milk\")\n",
        "print(\"Heat it for a few mins\")\n",
        "\n",
        "print(\"Boil some milk\")\n",
        "print(\"Add coffee powder\")"
      ],
      "metadata": {
        "colab": {
          "base_uri": "https://localhost:8080/"
        },
        "id": "X0RHu1CyMIOo",
        "outputId": "43c93f8e-08b4-47f6-891c-f9949f5ca92c"
      },
      "execution_count": null,
      "outputs": [
        {
          "output_type": "stream",
          "name": "stdout",
          "text": [
            "Boil some water\n",
            "Add some tea leaves, sugar and milk\n",
            "Heat it for a few mins\n",
            "Boil some water\n",
            "Add some tea leaves, sugar, ginger and milk\n",
            "Heat it for a few mins\n",
            "Boil some water\n",
            "Add some tea leaves, sugar and milk\n",
            "Heat it for a few mins\n",
            "Boil some milk\n",
            "Add coffee powder\n",
            "Boil some water\n",
            "Add some tea leaves, sugar and milk\n",
            "Heat it for a few mins\n",
            "Boil some milk\n",
            "Add coffee powder\n"
          ]
        }
      ]
    },
    {
      "cell_type": "code",
      "source": [
        "def tea():\n",
        "    print(\"Boil some water\")\n",
        "    print(\"Add some tea leaves, sugar, ginger and milk\")\n",
        "    print(\"Heat it for a few mins\")\n",
        "\n",
        "def coffee():\n",
        "    print(\"Boil some water\")\n",
        "    print(\"Add some coffee leaves, sugar, ginger and milk\")\n",
        "    print(\"Heat it for a few mins\")\n",
        "\n",
        "def boilmilk():\n",
        "    print(\"Boil some water\")\n",
        "    print(\"pour milk\")\n",
        "    print(\"Heat it for a few mins\")\n",
        "\n",
        "tea()\n",
        "coffee()\n",
        "boilmilk()\n"
      ],
      "metadata": {
        "colab": {
          "base_uri": "https://localhost:8080/"
        },
        "id": "UjvGlJeMMn3j",
        "outputId": "ae3ac5bc-a983-4653-94a4-2a92a8aa0f52"
      },
      "execution_count": null,
      "outputs": [
        {
          "output_type": "stream",
          "name": "stdout",
          "text": [
            "Boil some water\n",
            "Add some tea leaves, sugar, ginger and milk\n",
            "Heat it for a few mins\n",
            "Boil some water\n",
            "Add some coffee leaves, sugar, ginger and milk\n",
            "Heat it for a few mins\n",
            "Boil some water\n",
            "pour milk\n",
            "Heat it for a few mins\n"
          ]
        }
      ]
    },
    {
      "cell_type": "code",
      "source": [
        "def max(x,y):\n",
        "  if x>=y:\n",
        "    print(\"a value is :\",x)\n",
        "  else:\n",
        "    print(\"b value is :\",y)\n",
        "a = int(input())\n",
        "b = int(input())\n",
        "c = int(input())\n",
        "d = int(input())\n",
        "max(a,b)\n",
        "max(c,d)"
      ],
      "metadata": {
        "colab": {
          "base_uri": "https://localhost:8080/"
        },
        "id": "Io5L2R_KN-IE",
        "outputId": "6cb00319-6159-413e-99ce-373dd903bd26"
      },
      "execution_count": null,
      "outputs": [
        {
          "output_type": "stream",
          "name": "stdout",
          "text": [
            "10\n",
            "20\n",
            "30\n",
            "40\n",
            "b value is : 20\n"
          ]
        }
      ]
    },
    {
      "cell_type": "code",
      "source": [
        "def my_function(fname):\n",
        "  print(fname + \" Refsnes\")\n",
        "\n",
        "my_function(\"Emil\")\n",
        "my_function(\"Tobias\")\n",
        "my_function(\"Linus\")\n",
        "my_function(\"madhu\")\n"
      ],
      "metadata": {
        "colab": {
          "base_uri": "https://localhost:8080/"
        },
        "id": "nz4dkvPTQg1W",
        "outputId": "98e39b5c-c350-41d2-867c-c8844f841197"
      },
      "execution_count": null,
      "outputs": [
        {
          "output_type": "stream",
          "name": "stdout",
          "text": [
            "Emil Refsnes\n",
            "Tobias Refsnes\n",
            "Linus Refsnes\n",
            "madhu Refsnes\n"
          ]
        }
      ]
    },
    {
      "cell_type": "code",
      "source": [
        "def my_function(fname, lname):\n",
        "  print(fname + \" \" + lname)\n",
        "\n",
        "my_function(\"Emil\", \"Refsnes\")"
      ],
      "metadata": {
        "colab": {
          "base_uri": "https://localhost:8080/"
        },
        "id": "mLXN70gURDvw",
        "outputId": "329af9cd-2107-48b4-9d1f-591e4dc9f9b8"
      },
      "execution_count": null,
      "outputs": [
        {
          "output_type": "stream",
          "name": "stdout",
          "text": [
            "Emil Refsnes\n"
          ]
        }
      ]
    },
    {
      "cell_type": "code",
      "source": [
        "def my_function(fname, lname):\n",
        "  print(fname + \" \" + lname)\n",
        "\n",
        "my_function(\"Emil\",\"madhu\")"
      ],
      "metadata": {
        "colab": {
          "base_uri": "https://localhost:8080/"
        },
        "id": "LRDm3OBgRIIS",
        "outputId": "3e1130a4-2125-408e-8c5e-860dd3ec39a1"
      },
      "execution_count": null,
      "outputs": [
        {
          "output_type": "stream",
          "name": "stdout",
          "text": [
            "Emil madhu\n"
          ]
        }
      ]
    },
    {
      "cell_type": "code",
      "source": [
        "def my_function(kids):\n",
        "  print(\"The youngest child is \" + kids[2])\n",
        "\n",
        "my_function(\"Emil\", \"Tobias\", \"Linus\")"
      ],
      "metadata": {
        "colab": {
          "base_uri": "https://localhost:8080/",
          "height": 211
        },
        "id": "QIcTe16wRmob",
        "outputId": "f0ea5838-58b2-4102-ded3-d31b10f23fcd"
      },
      "execution_count": null,
      "outputs": [
        {
          "output_type": "error",
          "ename": "TypeError",
          "evalue": "ignored",
          "traceback": [
            "\u001b[0;31m---------------------------------------------------------------------------\u001b[0m",
            "\u001b[0;31mTypeError\u001b[0m                                 Traceback (most recent call last)",
            "\u001b[0;32m<ipython-input-17-ef5468e19877>\u001b[0m in \u001b[0;36m<cell line: 4>\u001b[0;34m()\u001b[0m\n\u001b[1;32m      2\u001b[0m   \u001b[0mprint\u001b[0m\u001b[0;34m(\u001b[0m\u001b[0;34m\"The youngest child is \"\u001b[0m \u001b[0;34m+\u001b[0m \u001b[0mkids\u001b[0m\u001b[0;34m[\u001b[0m\u001b[0;36m2\u001b[0m\u001b[0;34m]\u001b[0m\u001b[0;34m)\u001b[0m\u001b[0;34m\u001b[0m\u001b[0;34m\u001b[0m\u001b[0m\n\u001b[1;32m      3\u001b[0m \u001b[0;34m\u001b[0m\u001b[0m\n\u001b[0;32m----> 4\u001b[0;31m \u001b[0mmy_function\u001b[0m\u001b[0;34m(\u001b[0m\u001b[0;34m\"Emil\"\u001b[0m\u001b[0;34m,\u001b[0m \u001b[0;34m\"Tobias\"\u001b[0m\u001b[0;34m,\u001b[0m \u001b[0;34m\"Linus\"\u001b[0m\u001b[0;34m)\u001b[0m\u001b[0;34m\u001b[0m\u001b[0;34m\u001b[0m\u001b[0m\n\u001b[0m",
            "\u001b[0;31mTypeError\u001b[0m: my_function() takes 1 positional argument but 3 were given"
          ]
        }
      ]
    },
    {
      "cell_type": "code",
      "source": [
        "def my_function(*kids):\n",
        "  print(\"The youngest child is \" + kids[1])\n",
        "\n",
        "my_function(\"Emil\", \"Tobias\", \"Linus\")"
      ],
      "metadata": {
        "colab": {
          "base_uri": "https://localhost:8080/"
        },
        "id": "-3ayUtbnRpqZ",
        "outputId": "f8b2c04e-0538-4e16-e01e-872e710080e4"
      },
      "execution_count": null,
      "outputs": [
        {
          "output_type": "stream",
          "name": "stdout",
          "text": [
            "The youngest child is Tobias\n"
          ]
        }
      ]
    },
    {
      "cell_type": "code",
      "source": [
        "def my_function(*kids):\n",
        "  print(\"The youngest child is \" + kids[4])\n",
        "\n",
        "my_function(\"Emil\", \"Tobias\", \"Linus\",\"rviiv\",\"ckvkj\")"
      ],
      "metadata": {
        "colab": {
          "base_uri": "https://localhost:8080/"
        },
        "id": "eLRM_8boSkc6",
        "outputId": "46da5ed6-b74b-41cf-f3e8-1e2ec316459c"
      },
      "execution_count": null,
      "outputs": [
        {
          "output_type": "stream",
          "name": "stdout",
          "text": [
            "The youngest child is ckvkj\n"
          ]
        }
      ]
    },
    {
      "cell_type": "code",
      "source": [
        "def my_function(child3, child2, child1):\n",
        "  print(\"The youngest child is \" + child3)\n",
        "\n",
        "my_function(child1 = \"Emil\", child2 = \"Tobias\", child3 = \"Linus\")"
      ],
      "metadata": {
        "colab": {
          "base_uri": "https://localhost:8080/"
        },
        "id": "sDW3jb20S34Q",
        "outputId": "6da95ea7-ffb2-4281-d8c5-aae3b042aefb"
      },
      "execution_count": null,
      "outputs": [
        {
          "output_type": "stream",
          "name": "stdout",
          "text": [
            "The youngest child is Linus\n"
          ]
        }
      ]
    },
    {
      "cell_type": "code",
      "source": [
        "def my_function(child1, child2, child3):\n",
        "  print(\"The youngest child is \" + child3)\n",
        "\n",
        "my_function(child1 = \"Emil\", child2 = \"Tobias\", child3 = \"Linus\")"
      ],
      "metadata": {
        "colab": {
          "base_uri": "https://localhost:8080/"
        },
        "id": "_YgFq8aTTeYg",
        "outputId": "281079a9-a138-4618-dd50-96732ff7de41"
      },
      "execution_count": null,
      "outputs": [
        {
          "output_type": "stream",
          "name": "stdout",
          "text": [
            "The youngest child is Linus\n"
          ]
        }
      ]
    },
    {
      "cell_type": "code",
      "source": [
        "def my_function(child1, child3, child2):\n",
        "  print(\"The youngest child is \" + child3)\n",
        "\n",
        "my_function(child1 = \"Emil\", child2 = \"Tobias\", child3 = \"Linus\")"
      ],
      "metadata": {
        "colab": {
          "base_uri": "https://localhost:8080/"
        },
        "id": "F1S6J9TfTtSe",
        "outputId": "0f901e22-58c1-4cf0-a280-d210747a3050"
      },
      "execution_count": null,
      "outputs": [
        {
          "output_type": "stream",
          "name": "stdout",
          "text": [
            "The youngest child is Linus\n"
          ]
        }
      ]
    },
    {
      "cell_type": "code",
      "source": [
        "def my_function(child3, child2, child1):\n",
        "  print(\"The youngest child is \" + child3)\n",
        "\n",
        "my_function(\"Emil\", \"Tobias\", \"Linus\")"
      ],
      "metadata": {
        "colab": {
          "base_uri": "https://localhost:8080/"
        },
        "id": "XpvWgMxqTGfi",
        "outputId": "61c6a814-00cf-4664-e832-eb1a01893362"
      },
      "execution_count": null,
      "outputs": [
        {
          "output_type": "stream",
          "name": "stdout",
          "text": [
            "The youngest child is Emil\n"
          ]
        }
      ]
    },
    {
      "cell_type": "code",
      "source": [
        "def my_function(child2, child3, child1):\n",
        "  print(\"The youngest child is \" + child3)\n",
        "\n",
        "my_function(\"Emil\", \"Tobias\", \"Linus\")"
      ],
      "metadata": {
        "colab": {
          "base_uri": "https://localhost:8080/"
        },
        "id": "5GiYwy7xT6hg",
        "outputId": "f658aafa-9ea0-4f6c-8093-a7ac3d8def4d"
      },
      "execution_count": null,
      "outputs": [
        {
          "output_type": "stream",
          "name": "stdout",
          "text": [
            "The youngest child is Tobias\n"
          ]
        }
      ]
    },
    {
      "cell_type": "code",
      "source": [
        "def my_function(**kid):\n",
        "  print(\"His last name is \" + kid[\"lname\"])\n",
        "\n",
        "my_function(fname = \"Tobias\", lname = \"Refsnes\")\n",
        "\n",
        "my_function(fname = \"madhu\", lname = \"kishore\")\n",
        "\n",
        "my_function(fname = \"ias\", lname = \"nes\")"
      ],
      "metadata": {
        "colab": {
          "base_uri": "https://localhost:8080/"
        },
        "id": "JtqXsNy4Un-y",
        "outputId": "cf8c224a-383f-4769-dbe5-0e717f237a39"
      },
      "execution_count": null,
      "outputs": [
        {
          "output_type": "stream",
          "name": "stdout",
          "text": [
            "His last name is Refsnes\n",
            "His last name is kishore\n",
            "His last name is nes\n"
          ]
        }
      ]
    },
    {
      "cell_type": "code",
      "source": [
        "def my_function(country = \"Norway\"):\n",
        "  print(\"I am from \" + country)\n",
        "\n",
        "my_function(\"Sweden\")\n",
        "#my_function(\"India\")\n",
        "my_function()\n",
        "#my_function(\"Brazil\")"
      ],
      "metadata": {
        "colab": {
          "base_uri": "https://localhost:8080/"
        },
        "id": "HEpZSGfrVK6K",
        "outputId": "1c2d14bb-2bd1-4a85-a8be-8ef9d7cd9efb"
      },
      "execution_count": null,
      "outputs": [
        {
          "output_type": "stream",
          "name": "stdout",
          "text": [
            "I am from Sweden\n",
            "I am from Norway\n"
          ]
        }
      ]
    },
    {
      "cell_type": "code",
      "source": [
        "def simple_interest(p,t,r):\n",
        "    i = (p * t * r)/100\n",
        "    print(i)\n",
        "p = int(input())\n",
        "t = int(input())\n",
        "r = int(input())\n",
        "simple_interest(p,t,r)"
      ],
      "metadata": {
        "colab": {
          "base_uri": "https://localhost:8080/"
        },
        "id": "2InCJ2h4Vpgp",
        "outputId": "7ec8d102-7805-4533-a59e-1cd80d9445ba"
      },
      "execution_count": null,
      "outputs": [
        {
          "output_type": "stream",
          "name": "stdout",
          "text": [
            "10000\n",
            "2\n",
            "1600.0\n"
          ]
        }
      ]
    },
    {
      "cell_type": "code",
      "source": [
        "def simple_interest(p,t,r = 8):\n",
        "    i = (p * t * r)/100\n",
        "    print(i)\n",
        "p = int(input())\n",
        "t = int(input())\n",
        "simple_interest(p,t)"
      ],
      "metadata": {
        "colab": {
          "base_uri": "https://localhost:8080/"
        },
        "id": "pGMRhLVSWzlZ",
        "outputId": "15d40b37-ea16-4561-aa4b-9f25c622a2f9"
      },
      "execution_count": null,
      "outputs": [
        {
          "output_type": "stream",
          "name": "stdout",
          "text": [
            "10000\n",
            "2\n",
            "1600.0\n"
          ]
        }
      ]
    },
    {
      "cell_type": "code",
      "source": [
        "def simple_interest(p,t,r = 8):\n",
        "    i = (p * t * r)/100\n",
        "    print(i)\n",
        "p = int(input())\n",
        "t = int(input())\n",
        "r = int(input())\n",
        "simple_interest(p,t,r)"
      ],
      "metadata": {
        "colab": {
          "base_uri": "https://localhost:8080/"
        },
        "id": "17HuVMvKW9cU",
        "outputId": "a6a65032-c9f5-431c-fdfb-4539e27016f0"
      },
      "execution_count": null,
      "outputs": [
        {
          "output_type": "stream",
          "name": "stdout",
          "text": [
            "10000\n",
            "2\n",
            "10\n",
            "2000.0\n"
          ]
        }
      ]
    },
    {
      "cell_type": "code",
      "source": [
        "def my_function(food):\n",
        "  for x in food:\n",
        "    print(x,end = \" \")\n",
        "\n",
        "fruits = [\"apple\", \"banana\", \"cherry\"]\n",
        "\n",
        "my_function(fruits)"
      ],
      "metadata": {
        "colab": {
          "base_uri": "https://localhost:8080/"
        },
        "id": "9FhIKiOfX9Pg",
        "outputId": "e2a5e546-7bb9-4254-b729-00c7126c1485"
      },
      "execution_count": 38,
      "outputs": [
        {
          "output_type": "stream",
          "name": "stdout",
          "text": [
            "apple banana cherry "
          ]
        }
      ]
    },
    {
      "cell_type": "code",
      "source": [
        "def my_function(food):\n",
        "  for x in food:\n",
        "    print(x,end = \" ,\")\n",
        "\n",
        "fruits = [\"apple\", \"banana\", \"cherry\"]\n",
        "\n",
        "my_function(fruits)"
      ],
      "metadata": {
        "colab": {
          "base_uri": "https://localhost:8080/"
        },
        "id": "2N1zwP1FYDtX",
        "outputId": "67013f23-eaff-4ef9-867b-5b0fa0444775"
      },
      "execution_count": 39,
      "outputs": [
        {
          "output_type": "stream",
          "name": "stdout",
          "text": [
            "apple ,banana ,cherry ,"
          ]
        }
      ]
    },
    {
      "cell_type": "code",
      "source": [
        "def my_function(x):\n",
        "  print(\"input of x is :\",x)\n",
        "  return 5 * x\n",
        "\n",
        "def function():\n",
        "  pass\n",
        "\n",
        "print(my_function(3))\n",
        "print(my_function(5))\n",
        "print(my_function(9))"
      ],
      "metadata": {
        "colab": {
          "base_uri": "https://localhost:8080/"
        },
        "id": "qYzc6d3PYNtX",
        "outputId": "a6922e33-2e22-4863-c0f5-2b658b943e1c"
      },
      "execution_count": 49,
      "outputs": [
        {
          "output_type": "stream",
          "name": "stdout",
          "text": [
            "input of x is : 3\n",
            "15\n",
            "input of x is : 5\n",
            "25\n",
            "input of x is : 9\n",
            "45\n"
          ]
        }
      ]
    },
    {
      "cell_type": "code",
      "source": [
        "#The pass Statement\n",
        "def myfunction():\n",
        "  pass"
      ],
      "metadata": {
        "id": "Q97f-Mn4Y8Ju"
      },
      "execution_count": null,
      "outputs": []
    },
    {
      "cell_type": "code",
      "source": [
        "def tri_recursion(k):\n",
        "  if(k > 0):\n",
        "    result = k + tri_recursion(k - 1)\n",
        "    print(result)\n",
        "  else:\n",
        "    result = 0\n",
        "  return result\n",
        "\n",
        "print(\"\\n\\nRecursion Example Results\")\n",
        "tri_recursion(6)"
      ],
      "metadata": {
        "id": "t0L8ZxK0aRWD"
      },
      "execution_count": null,
      "outputs": []
    },
    {
      "cell_type": "code",
      "source": [
        "# Python program to illustrate\n",
        "# *args for variable number of arguments\n",
        "def myFun(*argv):\n",
        "    count = 0\n",
        "    for arg in argv:\n",
        "        count = count + 1\n",
        "        print(count,arg)\n",
        "\n",
        "myFun('Hello', 'Welcome', 'to', 'GeeksforGeeks')"
      ],
      "metadata": {
        "colab": {
          "base_uri": "https://localhost:8080/"
        },
        "id": "TK0lkTxwchm6",
        "outputId": "3721c8d1-a3f2-4c21-d700-47a66e0da71a"
      },
      "execution_count": 56,
      "outputs": [
        {
          "output_type": "stream",
          "name": "stdout",
          "text": [
            "1 Hello\n",
            "2 Welcome\n",
            "3 to\n",
            "4 GeeksforGeeks\n"
          ]
        }
      ]
    },
    {
      "cell_type": "code",
      "source": [
        "# Python program to illustrate\n",
        "# *kwargs for variable number of keyword arguments\n",
        "\n",
        "\n",
        "def myFun(**kwargs):\n",
        "\tfor key, value in kwargs.items():\n",
        "\t\tprint(\"%s == %s\" % (key, value))\n",
        "\n",
        "\n",
        "# Driver code\n",
        "myFun(first='Geeks', mid='for', last='Geeks')\n"
      ],
      "metadata": {
        "colab": {
          "base_uri": "https://localhost:8080/"
        },
        "id": "GM6iQS3xde6a",
        "outputId": "766af845-9fa2-4acc-c341-ac15cab669a4"
      },
      "execution_count": 57,
      "outputs": [
        {
          "output_type": "stream",
          "name": "stdout",
          "text": [
            "first == Geeks\n",
            "mid == for\n",
            "last == Geeks\n"
          ]
        }
      ]
    }
  ]
}