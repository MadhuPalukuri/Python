{
  "nbformat": 4,
  "nbformat_minor": 0,
  "metadata": {
    "colab": {
      "provenance": []
    },
    "kernelspec": {
      "name": "python3",
      "display_name": "Python 3"
    },
    "language_info": {
      "name": "python"
    }
  },
  "cells": [
    {
      "cell_type": "code",
      "source": [
        "n = int(input())  # this is where the user will get the input\n",
        "c = 0\n",
        "i = 1             # here we will be intialising the start value\n",
        "while (i<=n):    # we will be defining thw condition where to end the program\n",
        "   print(i,end=\" ,\")      #here we will be printing the value of i\n",
        "   c +=1\n",
        "   i+=1          # this is the stmt to jump\n",
        "print(\"No of iterats:\",c)\n",
        "\n"
      ],
      "metadata": {
        "colab": {
          "base_uri": "https://localhost:8080/"
        },
        "id": "XmBjjJ3U7RV2",
        "outputId": "04a86226-13cd-4899-abd1-255d799fa87c"
      },
      "execution_count": null,
      "outputs": [
        {
          "output_type": "stream",
          "name": "stdout",
          "text": [
            "20\n",
            "1 ,1\n",
            "madhu\n",
            "2 ,2\n",
            "madhu\n",
            "3 ,3\n",
            "madhu\n",
            "4 ,4\n",
            "madhu\n",
            "5 ,5\n",
            "madhu\n",
            "6 ,6\n",
            "madhu\n",
            "7 ,7\n",
            "madhu\n",
            "8 ,8\n",
            "madhu\n",
            "9 ,9\n",
            "madhu\n",
            "10 ,10\n",
            "madhu\n",
            "11 ,11\n",
            "madhu\n",
            "12 ,12\n",
            "madhu\n",
            "13 ,13\n",
            "madhu\n",
            "14 ,14\n",
            "madhu\n",
            "15 ,15\n",
            "madhu\n",
            "16 ,16\n",
            "madhu\n",
            "17 ,17\n",
            "madhu\n",
            "18 ,18\n",
            "madhu\n",
            "19 ,19\n",
            "madhu\n",
            "20 ,20\n",
            "madhu\n"
          ]
        }
      ]
    },
    {
      "cell_type": "code",
      "source": [
        "n = int(input())\n",
        "i=10\n",
        "c=0\n",
        "while (i>=n):\n",
        "  print(i,end=\" \")\n",
        "  i-=1\n",
        "  c+=1\n",
        "print()\n",
        "print(c)"
      ],
      "metadata": {
        "colab": {
          "base_uri": "https://localhost:8080/"
        },
        "id": "OYi6_kRBEDus",
        "outputId": "d8476388-1364-4818-e869-a48b0872f2fc"
      },
      "execution_count": null,
      "outputs": [
        {
          "output_type": "stream",
          "name": "stdout",
          "text": [
            "1\n",
            "10 9 8 7 6 5 4 3 2 1 \n",
            "10\n"
          ]
        }
      ]
    },
    {
      "cell_type": "code",
      "source": [
        "n= int(input())\n",
        "i=1\n",
        "while(i<=n):\n",
        "  if i%2==0:\n",
        "    print(i)\n",
        "    print(\"Welcome\")\n",
        "  i+=1"
      ],
      "metadata": {
        "colab": {
          "base_uri": "https://localhost:8080/"
        },
        "id": "WENFkL9sHBX5",
        "outputId": "123b9475-043e-428c-e0e9-f4796e89e23e"
      },
      "execution_count": null,
      "outputs": [
        {
          "output_type": "stream",
          "name": "stdout",
          "text": [
            "10\n",
            "0\n",
            "Hi how are you??\n",
            "1\n",
            "Hi how are you??\n",
            "2\n",
            "Hi how are you??\n",
            "3\n",
            "Hi how are you??\n",
            "4\n",
            "Hi how are you??\n",
            "5\n",
            "Hi how are you??\n",
            "6\n",
            "Hi how are you??\n",
            "7\n",
            "Hi how are you??\n",
            "8\n",
            "Hi how are you??\n",
            "9\n",
            "Hi how are you??\n",
            "10\n",
            "Hi how are you??\n"
          ]
        }
      ]
    },
    {
      "cell_type": "code",
      "source": [
        "n=int(input())\n",
        "i=1\n",
        "c=0\n",
        "while (i<=n):\n",
        "    print(i*3)\n",
        "    i+=1\n",
        "    c+=1\n",
        "print(c)\n"
      ],
      "metadata": {
        "colab": {
          "base_uri": "https://localhost:8080/"
        },
        "id": "yumx30AsM8J8",
        "outputId": "8e4dc0a4-ec5d-49d1-bd02-d78a18c7b94d"
      },
      "execution_count": null,
      "outputs": [
        {
          "output_type": "stream",
          "name": "stdout",
          "text": [
            "20\n",
            "3\n",
            "6\n",
            "9\n",
            "12\n",
            "15\n",
            "18\n",
            "21\n",
            "24\n",
            "27\n",
            "30\n",
            "33\n",
            "36\n",
            "39\n",
            "42\n",
            "45\n",
            "48\n",
            "51\n",
            "54\n",
            "57\n",
            "60\n",
            "20\n"
          ]
        }
      ]
    },
    {
      "cell_type": "code",
      "source": [],
      "metadata": {
        "id": "_s6bqoYrOfrG"
      },
      "execution_count": null,
      "outputs": []
    },
    {
      "cell_type": "code",
      "source": [
        "n = int(input())\n",
        "if n % 2 == 0:\n",
        "  print(\" Number is even\")\n",
        "else:\n",
        "  print(\"Not a even number\")"
      ],
      "metadata": {
        "colab": {
          "base_uri": "https://localhost:8080/"
        },
        "id": "9DCCcc2uJOhF",
        "outputId": "57cada45-da11-447c-a927-bc9971a10a44"
      },
      "execution_count": null,
      "outputs": [
        {
          "output_type": "stream",
          "name": "stdout",
          "text": [
            "9\n",
            "Not a even number\n"
          ]
        }
      ]
    },
    {
      "cell_type": "code",
      "source": [
        "n = int(input())\n",
        "i = 1\n",
        "while i < n:\n",
        "  if i == 3:\n",
        "    continue\n",
        "  i += 1\n",
        "  print(i)"
      ],
      "metadata": {
        "colab": {
          "base_uri": "https://localhost:8080/",
          "height": 297
        },
        "id": "9YsmFj5IQqPN",
        "outputId": "a923e6b0-bd12-460b-c6f4-0a1182e038d9"
      },
      "execution_count": 85,
      "outputs": [
        {
          "output_type": "stream",
          "name": "stdout",
          "text": [
            "10\n",
            "2\n",
            "3\n"
          ]
        },
        {
          "output_type": "error",
          "ename": "KeyboardInterrupt",
          "evalue": "ignored",
          "traceback": [
            "\u001b[0;31m---------------------------------------------------------------------------\u001b[0m",
            "\u001b[0;31mKeyboardInterrupt\u001b[0m                         Traceback (most recent call last)",
            "\u001b[0;32m<ipython-input-85-78c9c2a33d92>\u001b[0m in \u001b[0;36m<cell line: 3>\u001b[0;34m()\u001b[0m\n\u001b[1;32m      3\u001b[0m \u001b[0;32mwhile\u001b[0m \u001b[0mi\u001b[0m \u001b[0;34m<\u001b[0m \u001b[0mn\u001b[0m\u001b[0;34m:\u001b[0m\u001b[0;34m\u001b[0m\u001b[0;34m\u001b[0m\u001b[0m\n\u001b[1;32m      4\u001b[0m   \u001b[0;32mif\u001b[0m \u001b[0mi\u001b[0m \u001b[0;34m==\u001b[0m \u001b[0;36m3\u001b[0m\u001b[0;34m:\u001b[0m\u001b[0;34m\u001b[0m\u001b[0;34m\u001b[0m\u001b[0m\n\u001b[0;32m----> 5\u001b[0;31m     \u001b[0;32mcontinue\u001b[0m\u001b[0;34m\u001b[0m\u001b[0;34m\u001b[0m\u001b[0m\n\u001b[0m\u001b[1;32m      6\u001b[0m   \u001b[0mi\u001b[0m \u001b[0;34m+=\u001b[0m \u001b[0;36m1\u001b[0m\u001b[0;34m\u001b[0m\u001b[0;34m\u001b[0m\u001b[0m\n\u001b[1;32m      7\u001b[0m   \u001b[0mprint\u001b[0m\u001b[0;34m(\u001b[0m\u001b[0mi\u001b[0m\u001b[0;34m)\u001b[0m\u001b[0;34m\u001b[0m\u001b[0;34m\u001b[0m\u001b[0m\n",
            "\u001b[0;31mKeyboardInterrupt\u001b[0m: "
          ]
        }
      ]
    },
    {
      "cell_type": "code",
      "source": [
        "i = 0\n",
        "while i < 10:\n",
        "  i += 1\n",
        "  if i == 8:\n",
        "    break\n",
        "  print(i)"
      ],
      "metadata": {
        "colab": {
          "base_uri": "https://localhost:8080/"
        },
        "id": "7ViF8VjAUOWY",
        "outputId": "09845543-24fa-4006-b8ec-ab39dc602045"
      },
      "execution_count": 93,
      "outputs": [
        {
          "output_type": "stream",
          "name": "stdout",
          "text": [
            "1\n",
            "2\n",
            "3\n",
            "4\n",
            "5\n",
            "6\n",
            "7\n"
          ]
        }
      ]
    }
  ]
}