{
  "nbformat": 4,
  "nbformat_minor": 0,
  "metadata": {
    "colab": {
      "provenance": []
    },
    "kernelspec": {
      "name": "python3",
      "display_name": "Python 3"
    },
    "language_info": {
      "name": "python"
    }
  },
  "cells": [
    {
      "cell_type": "code",
      "execution_count": null,
      "metadata": {
        "colab": {
          "base_uri": "https://localhost:8080/"
        },
        "id": "utQZWWBvWatv",
        "outputId": "024cf3fc-b955-4e0f-bac5-62e6cf14c9a9"
      },
      "outputs": [
        {
          "output_type": "stream",
          "name": "stdout",
          "text": [
            "java\n",
            "python\n",
            "java\n",
            "python\n",
            "javac++python\n"
          ]
        }
      ],
      "source": [
        "# concat with strings\n",
        "str1 = input()\n",
        "str2 = input()\n",
        "print(str1)\n",
        "print(str2)\n",
        "print(str1 +\"c++\"+ str2)"
      ]
    },
    {
      "cell_type": "code",
      "source": [
        "#end keyword usage\n",
        "str1 = input()\n",
        "str2 = input()\n",
        "print(str1,end=\"\")\n",
        "print(str2,end=\"\")\n",
        "print(str1 +\"c++\"+ str2)"
      ],
      "metadata": {
        "colab": {
          "base_uri": "https://localhost:8080/"
        },
        "id": "OIMaT4WzZUly",
        "outputId": "d986236c-d14b-4185-deed-3d7b40596976"
      },
      "execution_count": null,
      "outputs": [
        {
          "output_type": "stream",
          "name": "stdout",
          "text": [
            "java\n",
            "python\n",
            "javapythonjavac++python\n"
          ]
        }
      ]
    },
    {
      "cell_type": "code",
      "source": [
        "#adding two number program\n",
        "x = int(input())\n",
        "print(type(x))\n",
        "y = int(input())\n",
        "print(type(y))\n",
        "print(x)\n",
        "print(y)\n",
        "print(x+y)"
      ],
      "metadata": {
        "colab": {
          "base_uri": "https://localhost:8080/"
        },
        "id": "00M1g_O6aMHY",
        "outputId": "912cc28f-0e17-47da-c54a-fc8f1d0794c3"
      },
      "execution_count": null,
      "outputs": [
        {
          "output_type": "stream",
          "name": "stdout",
          "text": [
            "10\n",
            "<class 'int'>\n",
            "55\n",
            "<class 'int'>\n",
            "10\n",
            "55\n",
            "65\n"
          ]
        }
      ]
    },
    {
      "cell_type": "code",
      "source": [
        "#sub two number program"
      ],
      "metadata": {
        "id": "PRcAVw5-bWqW"
      },
      "execution_count": null,
      "outputs": []
    },
    {
      "cell_type": "code",
      "source": [
        "#mul two number program"
      ],
      "metadata": {
        "id": "NJE4B6mwbb7J"
      },
      "execution_count": null,
      "outputs": []
    },
    {
      "cell_type": "code",
      "source": [
        "#div two number program"
      ],
      "metadata": {
        "id": "_qXnXIETbe27"
      },
      "execution_count": null,
      "outputs": []
    },
    {
      "cell_type": "code",
      "source": [
        "#string format\n",
        "name = input()\n",
        "age  = int(input())\n",
        "print(f\"my name is {name} and my age is {age}\")"
      ],
      "metadata": {
        "colab": {
          "base_uri": "https://localhost:8080/"
        },
        "id": "nlRbbFPibkt6",
        "outputId": "d4f1e7bb-28a5-4c91-aafd-c54009e59edb"
      },
      "execution_count": null,
      "outputs": [
        {
          "output_type": "stream",
          "name": "stdout",
          "text": [
            "madhu\n",
            "30\n",
            "my name is madhu and my age is 30\n"
          ]
        }
      ]
    },
    {
      "cell_type": "code",
      "source": [
        "#Case-Sensitive\n",
        "name1 = \"madhu\"\n",
        "print(name1)\n",
        "name2 = \"MADHU\"\n",
        "print(name2)"
      ],
      "metadata": {
        "colab": {
          "base_uri": "https://localhost:8080/"
        },
        "id": "ACh9xt3Sddnc",
        "outputId": "09d79268-1e75-4a12-c7da-f1341ec70fe4"
      },
      "execution_count": null,
      "outputs": [
        {
          "output_type": "stream",
          "name": "stdout",
          "text": [
            "madhu\n",
            "MADHU\n"
          ]
        }
      ]
    },
    {
      "cell_type": "code",
      "source": [
        "6NamE = \"madhu\"\n",
        "print(6NamE)\n",
        "naME = \"MADHUvhorevheirviureh\"\n",
        "print(naME)"
      ],
      "metadata": {
        "colab": {
          "base_uri": "https://localhost:8080/",
          "height": 141
        },
        "id": "6gZaRJRTe1lF",
        "outputId": "47ed97b0-93aa-4d4d-dee2-d7c2eca9403d"
      },
      "execution_count": null,
      "outputs": [
        {
          "output_type": "error",
          "ename": "SyntaxError",
          "evalue": "ignored",
          "traceback": [
            "\u001b[0;36m  File \u001b[0;32m\"<ipython-input-28-b623c580e82f>\"\u001b[0;36m, line \u001b[0;32m1\u001b[0m\n\u001b[0;31m    6NamE = \"madhu\"\u001b[0m\n\u001b[0m    ^\u001b[0m\n\u001b[0;31mSyntaxError\u001b[0m\u001b[0;31m:\u001b[0m invalid decimal literal\n"
          ]
        }
      ]
    },
    {
      "cell_type": "code",
      "source": [
        "'''\n",
        "Variable Names\n",
        "A variable can have a short name (like x and y) or a more descriptive name (age, carname, total_volume). Rules for Python variables:\n",
        "A variable name must start with a letter or the underscore character\n",
        "A variable name cannot start with a number\n",
        "A variable name can only contain alpha-numeric characters and underscores (A-z, 0-9, and _ )\n",
        "Variable names are case-sensitive (age, Age and AGE are three different variables)\n",
        "A variable name cannot be any of the Python keywords.\n",
        "'''"
      ],
      "metadata": {
        "id": "tIJeO-VefS5f"
      },
      "execution_count": null,
      "outputs": []
    },
    {
      "cell_type": "code",
      "source": [
        "\"\"\"\n",
        "myvar = \"John\"  valid\n",
        "my_var = \"John\" valid\n",
        "_my_var = \"John\" valid\n",
        "myVar = \"John\" valid\n",
        "MYVAR = \"John\" valid\n",
        "myvar2 = \"John\" valid\n",
        "2myvar = \"John\" unvalid\n",
        "my-var = \"John\" valid\n",
        "myvar = \"John\" valid\n",
        "\"\"\""
      ],
      "metadata": {
        "id": "yHSG_VJFgEPW"
      },
      "execution_count": null,
      "outputs": []
    },
    {
      "cell_type": "code",
      "source": [
        "my-var = \"John\"\n",
        "print(my-var)"
      ],
      "metadata": {
        "colab": {
          "base_uri": "https://localhost:8080/",
          "height": 141
        },
        "id": "tz94ZwGXg59i",
        "outputId": "eb95aec6-194a-4850-ee7a-05455e02f321"
      },
      "execution_count": null,
      "outputs": [
        {
          "output_type": "error",
          "ename": "SyntaxError",
          "evalue": "ignored",
          "traceback": [
            "\u001b[0;36m  File \u001b[0;32m\"<ipython-input-33-9ac0e16f04f5>\"\u001b[0;36m, line \u001b[0;32m1\u001b[0m\n\u001b[0;31m    my-var = \"John\"\u001b[0m\n\u001b[0m    ^\u001b[0m\n\u001b[0;31mSyntaxError\u001b[0m\u001b[0;31m:\u001b[0m cannot assign to expression here. Maybe you meant '==' instead of '='?\n"
          ]
        }
      ]
    },
    {
      "cell_type": "code",
      "source": [
        "my_var = \"John\"\n",
        "print(my_var)\n",
        "my-var = \"John\"\n",
        "print(my-var)"
      ],
      "metadata": {
        "colab": {
          "base_uri": "https://localhost:8080/",
          "height": 141
        },
        "id": "r94_eJNAgYB1",
        "outputId": "39b761a0-9c9f-4799-cb82-6e35c90adeb7"
      },
      "execution_count": null,
      "outputs": [
        {
          "output_type": "error",
          "ename": "SyntaxError",
          "evalue": "ignored",
          "traceback": [
            "\u001b[0;36m  File \u001b[0;32m\"<ipython-input-32-70977c833d28>\"\u001b[0;36m, line \u001b[0;32m3\u001b[0m\n\u001b[0;31m    my-var = \"John\"\u001b[0m\n\u001b[0m    ^\u001b[0m\n\u001b[0;31mSyntaxError\u001b[0m\u001b[0;31m:\u001b[0m cannot assign to expression here. Maybe you meant '==' instead of '='?\n"
          ]
        }
      ]
    },
    {
      "cell_type": "code",
      "source": [
        "#multi assignment\n",
        "x, y, z = \"Orange\", \"Banana\", \"Cherry\"\n",
        "print(z, end=\",\")\n",
        "print(x, end=\",\")\n",
        "print(y)"
      ],
      "metadata": {
        "colab": {
          "base_uri": "https://localhost:8080/"
        },
        "id": "mhinSEcvhR53",
        "outputId": "4029f79f-beaa-4ac0-a5fd-a48d8e7070e4"
      },
      "execution_count": null,
      "outputs": [
        {
          "output_type": "stream",
          "name": "stdout",
          "text": [
            "Cherry,Orange,Banana\n"
          ]
        }
      ]
    },
    {
      "cell_type": "code",
      "source": [
        "x, y, z = \"Orange\", \"Banana\", \"Cherry\"\n",
        "print(x)\n",
        "print(y)\n",
        "print(z)"
      ],
      "metadata": {
        "id": "Wq0uHX-thzAF"
      },
      "execution_count": null,
      "outputs": []
    },
    {
      "cell_type": "code",
      "source": [
        "x = y = z = \"Orange\"\n",
        "print(x)\n",
        "print(y)\n",
        "print(z)\n"
      ],
      "metadata": {
        "colab": {
          "base_uri": "https://localhost:8080/"
        },
        "id": "qQ-GwOZOiRmU",
        "outputId": "a7988163-c3f7-41ed-b202-18dab271ed55"
      },
      "execution_count": null,
      "outputs": [
        {
          "output_type": "stream",
          "name": "stdout",
          "text": [
            "Orange\n",
            "Orange\n",
            "Orange\n"
          ]
        }
      ]
    }
  ]
}