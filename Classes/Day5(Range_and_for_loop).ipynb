{
  "nbformat": 4,
  "nbformat_minor": 0,
  "metadata": {
    "colab": {
      "provenance": []
    },
    "kernelspec": {
      "name": "python3",
      "display_name": "Python 3"
    },
    "language_info": {
      "name": "python"
    }
  },
  "cells": [
    {
      "cell_type": "code",
      "execution_count": null,
      "metadata": {
        "id": "qUOhRLgKCNcW"
      },
      "outputs": [],
      "source": [
        "range(start,end,step (or) jump)"
      ]
    },
    {
      "cell_type": "code",
      "source": [
        "print(*range(1,20,2))"
      ],
      "metadata": {
        "colab": {
          "base_uri": "https://localhost:8080/"
        },
        "id": "0Agivd2YC8IZ",
        "outputId": "d7f61c9c-bc73-4e41-f5a2-310e93bfb9d3"
      },
      "execution_count": 4,
      "outputs": [
        {
          "output_type": "stream",
          "name": "stdout",
          "text": [
            "1 3 5 7 9 11 13 15 17 19\n"
          ]
        }
      ]
    },
    {
      "cell_type": "code",
      "source": [
        "print(*range(1,20))"
      ],
      "metadata": {
        "colab": {
          "base_uri": "https://localhost:8080/"
        },
        "id": "GnOGsWBJDZTX",
        "outputId": "838c7a37-b9c5-437f-cfd6-e34e002c80b3"
      },
      "execution_count": 6,
      "outputs": [
        {
          "output_type": "stream",
          "name": "stdout",
          "text": [
            "1 2 3 4 5 6 7 8 9 10 11 12 13 14 15 16 17 18 19\n"
          ]
        }
      ]
    },
    {
      "cell_type": "code",
      "source": [
        "n = int(input())\n",
        "print(*range(3,n+1,4))"
      ],
      "metadata": {
        "colab": {
          "base_uri": "https://localhost:8080/"
        },
        "id": "wCfGqpCsDpAx",
        "outputId": "880892f2-fadc-4b82-8998-70d7f09576b2"
      },
      "execution_count": 12,
      "outputs": [
        {
          "output_type": "stream",
          "name": "stdout",
          "text": [
            "20\n",
            "3 7 11 15 19\n"
          ]
        }
      ]
    },
    {
      "cell_type": "code",
      "source": [
        "n = int(input())\n",
        "for i in range(1,10):\n",
        "\n",
        "  print(i,end=\" \")"
      ],
      "metadata": {
        "colab": {
          "base_uri": "https://localhost:8080/"
        },
        "id": "lD1JjgHDEP5V",
        "outputId": "44889305-52e7-480c-e6d1-a675a6fc0198"
      },
      "execution_count": 17,
      "outputs": [
        {
          "output_type": "stream",
          "name": "stdout",
          "text": [
            "20\n",
            "1 2 3 4 5 6 7 8 9 10 11 12 13 14 15 16 17 18 19 20 "
          ]
        }
      ]
    },
    {
      "cell_type": "code",
      "source": [
        "range(11)"
      ],
      "metadata": {
        "colab": {
          "base_uri": "https://localhost:8080/"
        },
        "id": "l7IfDo2PF5C2",
        "outputId": "c3fde525-b12e-40a8-e23e-42b93d6f06aa"
      },
      "execution_count": 18,
      "outputs": [
        {
          "output_type": "execute_result",
          "data": {
            "text/plain": [
              "range(0, 11)"
            ]
          },
          "metadata": {},
          "execution_count": 18
        }
      ]
    },
    {
      "cell_type": "code",
      "source": [
        "print(list(range(7, 8)))"
      ],
      "metadata": {
        "colab": {
          "base_uri": "https://localhost:8080/"
        },
        "id": "Pm4RE9uhGGLO",
        "outputId": "ebe5e89c-3887-4ed8-bae7-6bd8a53a0116"
      },
      "execution_count": 19,
      "outputs": [
        {
          "output_type": "stream",
          "name": "stdout",
          "text": [
            "[7]\n"
          ]
        }
      ]
    },
    {
      "cell_type": "code",
      "source": [
        "print(*range(2.5, 5.5))"
      ],
      "metadata": {
        "colab": {
          "base_uri": "https://localhost:8080/",
          "height": 176
        },
        "id": "-Ukj2Un2GNkG",
        "outputId": "f9d667fa-f409-4b76-931d-5935ee5b5c4e"
      },
      "execution_count": 20,
      "outputs": [
        {
          "output_type": "error",
          "ename": "TypeError",
          "evalue": "ignored",
          "traceback": [
            "\u001b[0;31m---------------------------------------------------------------------------\u001b[0m",
            "\u001b[0;31mTypeError\u001b[0m                                 Traceback (most recent call last)",
            "\u001b[0;32m<ipython-input-20-2944f0fa5c76>\u001b[0m in \u001b[0;36m<cell line: 1>\u001b[0;34m()\u001b[0m\n\u001b[0;32m----> 1\u001b[0;31m \u001b[0mprint\u001b[0m\u001b[0;34m(\u001b[0m\u001b[0;34m*\u001b[0m\u001b[0mrange\u001b[0m\u001b[0;34m(\u001b[0m\u001b[0;36m2.5\u001b[0m\u001b[0;34m,\u001b[0m \u001b[0;36m5.5\u001b[0m\u001b[0;34m)\u001b[0m\u001b[0;34m)\u001b[0m\u001b[0;34m\u001b[0m\u001b[0;34m\u001b[0m\u001b[0m\n\u001b[0m",
            "\u001b[0;31mTypeError\u001b[0m: 'float' object cannot be interpreted as an integer"
          ]
        }
      ]
    },
    {
      "cell_type": "code",
      "source": [
        "# * = spread operator here"
      ],
      "metadata": {
        "id": "ByPxuaimGe3Y"
      },
      "execution_count": null,
      "outputs": []
    },
    {
      "cell_type": "code",
      "source": [
        "print(list(range(8, 8)))"
      ],
      "metadata": {
        "colab": {
          "base_uri": "https://localhost:8080/"
        },
        "id": "aStVwsiLGkL6",
        "outputId": "f6f504c2-f71a-4a51-f51f-c18850eb739a"
      },
      "execution_count": 22,
      "outputs": [
        {
          "output_type": "stream",
          "name": "stdout",
          "text": [
            "\n"
          ]
        }
      ]
    },
    {
      "cell_type": "code",
      "source": [
        "print(*range(3, 15, 4))"
      ],
      "metadata": {
        "colab": {
          "base_uri": "https://localhost:8080/"
        },
        "id": "BvBbVR5QGw89",
        "outputId": "05bdab60-8984-468f-afe6-69ce62fd73ad"
      },
      "execution_count": 23,
      "outputs": [
        {
          "output_type": "stream",
          "name": "stdout",
          "text": [
            "3 7 11\n"
          ]
        }
      ]
    },
    {
      "cell_type": "code",
      "source": [
        "print(list(range(6, 2)))"
      ],
      "metadata": {
        "colab": {
          "base_uri": "https://localhost:8080/"
        },
        "id": "v39rkhRvG6r1",
        "outputId": "b57d862a-f194-49c1-e73a-dbceba0f3456"
      },
      "execution_count": 25,
      "outputs": [
        {
          "output_type": "stream",
          "name": "stdout",
          "text": [
            "[6, 5, 4, 3]\n"
          ]
        }
      ]
    },
    {
      "cell_type": "code",
      "source": [
        "for i in range(-1, 10, 2):\n",
        "    print(i, end=' ')"
      ],
      "metadata": {
        "colab": {
          "base_uri": "https://localhost:8080/"
        },
        "id": "jgBDVrKiHRku",
        "outputId": "5099943d-0ad2-4c53-e24f-b0a2efd6b33e"
      },
      "execution_count": 26,
      "outputs": [
        {
          "output_type": "stream",
          "name": "stdout",
          "text": [
            "-1 1 3 5 7 9 "
          ]
        }
      ]
    },
    {
      "cell_type": "code",
      "source": [
        "#Print all even numbers from 2 till N\n",
        "n = int(input())\n",
        "for i in range(2,n+1,2):\n",
        "  print(i, end=\" \")"
      ],
      "metadata": {
        "colab": {
          "base_uri": "https://localhost:8080/"
        },
        "id": "-FTBiABPHZCn",
        "outputId": "78736668-047a-4bd2-9741-ec4fc0e611ed"
      },
      "execution_count": 30,
      "outputs": [
        {
          "output_type": "stream",
          "name": "stdout",
          "text": [
            "50\n",
            "2 4 6 8 10 12 14 16 18 20 22 24 26 28 30 32 34 36 38 40 42 44 46 48 50 "
          ]
        }
      ]
    },
    {
      "cell_type": "code",
      "source": [
        "#Print squares of all numbers from 1 to N\n",
        "n = int(input())\n",
        "for i in range(1,n+1):\n",
        "  print(i**2, end = \" \")"
      ],
      "metadata": {
        "colab": {
          "base_uri": "https://localhost:8080/"
        },
        "id": "6hUsOjT6HzTi",
        "outputId": "c4a35786-0f88-4177-b314-eb9cb8dedc7d"
      },
      "execution_count": 34,
      "outputs": [
        {
          "output_type": "stream",
          "name": "stdout",
          "text": [
            "20\n",
            "1 4 9 16 25 36 49 64 81 100 121 144 169 196 225 256 289 324 361 400 "
          ]
        }
      ]
    },
    {
      "cell_type": "code",
      "source": [
        "n = int(input())\n",
        "for i in range(50,n-1,-1):\n",
        "  print(i**2, end = \" \")"
      ],
      "metadata": {
        "colab": {
          "base_uri": "https://localhost:8080/"
        },
        "id": "cbzSJXedIiVf",
        "outputId": "9139cc16-efe7-4508-8992-f58e53f7888a"
      },
      "execution_count": 40,
      "outputs": [
        {
          "output_type": "stream",
          "name": "stdout",
          "text": [
            "1\n",
            "2500 2401 2304 2209 2116 2025 1936 1849 1764 1681 1600 1521 1444 1369 1296 1225 1156 1089 1024 961 900 841 784 729 676 625 576 529 484 441 400 361 324 289 256 225 196 169 144 121 100 81 64 49 36 25 16 9 4 1 "
          ]
        }
      ]
    },
    {
      "cell_type": "code",
      "source": [
        "for i in range(-5, -20, -3):\n",
        "    print(i, end=' ')"
      ],
      "metadata": {
        "colab": {
          "base_uri": "https://localhost:8080/"
        },
        "id": "IFUkezafJXpl",
        "outputId": "2a490e43-4e09-4507-ed3c-c3dad72823ec"
      },
      "execution_count": 41,
      "outputs": [
        {
          "output_type": "stream",
          "name": "stdout",
          "text": [
            "-5 -8 -11 -14 -17 "
          ]
        }
      ]
    },
    {
      "cell_type": "code",
      "source": [
        "for i in range(1, 100):\n",
        "    if i == 30:\n",
        "        continue\n",
        "    print(i, end=' ')"
      ],
      "metadata": {
        "colab": {
          "base_uri": "https://localhost:8080/"
        },
        "id": "gEKvSxaJJ25y",
        "outputId": "fde12460-e668-4472-8d45-5158ea16af3a"
      },
      "execution_count": 43,
      "outputs": [
        {
          "output_type": "stream",
          "name": "stdout",
          "text": [
            "1 2 3 4 5 6 7 8 9 10 11 12 13 14 15 16 17 18 19 20 21 22 23 24 25 26 27 28 29 31 32 33 34 35 36 37 38 39 40 41 42 43 44 45 46 47 48 49 50 51 52 53 54 55 56 57 58 59 60 61 62 63 64 65 66 67 68 69 70 71 72 73 74 75 76 77 78 79 80 81 82 83 84 85 86 87 88 89 90 91 92 93 94 95 96 97 98 99 "
          ]
        }
      ]
    },
    {
      "cell_type": "code",
      "source": [
        "skip_number = int(input())\n",
        "n = int(input())\n",
        "for i in range(1, n):\n",
        "    if i == skip_number:\n",
        "        continue\n",
        "    print(i, end=' ')"
      ],
      "metadata": {
        "colab": {
          "base_uri": "https://localhost:8080/"
        },
        "id": "oy3oEAzbLNeW",
        "outputId": "75321eb0-a217-4aba-b0ce-9501cd680981"
      },
      "execution_count": 45,
      "outputs": [
        {
          "output_type": "stream",
          "name": "stdout",
          "text": [
            "48\n",
            "100\n",
            "1 2 3 4 5 6 7 8 9 10 11 12 13 14 15 16 17 18 19 20 21 22 23 24 25 26 27 28 29 30 31 32 33 34 35 36 37 38 39 40 41 42 43 44 45 46 47 "
          ]
        }
      ]
    },
    {
      "cell_type": "code",
      "source": [],
      "metadata": {
        "id": "KogyUhAGLmAL"
      },
      "execution_count": null,
      "outputs": []
    },
    {
      "cell_type": "code",
      "source": [
        "for i in range(1, 100):\n",
        "    if i == 30:\n",
        "        break\n",
        "    print(i, end=' ')"
      ],
      "metadata": {
        "id": "ysbz1NKrLB_Z"
      },
      "execution_count": null,
      "outputs": []
    },
    {
      "cell_type": "code",
      "source": [
        "break_number = int(input())\n",
        "n = int(input())\n",
        "for i in range(1, n):\n",
        "    if i == break_number:\n",
        "        break\n",
        "    print(i, end=' ')"
      ],
      "metadata": {
        "colab": {
          "base_uri": "https://localhost:8080/"
        },
        "id": "Sv-oYs1mLqJr",
        "outputId": "714acaf3-50d2-4d75-f1c6-352f58e3ac90"
      },
      "execution_count": 46,
      "outputs": [
        {
          "output_type": "stream",
          "name": "stdout",
          "text": [
            "8\n",
            "20\n",
            "1 2 3 4 5 6 7 "
          ]
        }
      ]
    },
    {
      "cell_type": "code",
      "source": [
        "for i in range(-5, False):\n",
        "    print(i)"
      ],
      "metadata": {
        "id": "kGI5vos3L0SO"
      },
      "execution_count": 51,
      "outputs": []
    },
    {
      "cell_type": "code",
      "source": [
        "for i in range(0,10):\n",
        "     if(i%3==0):\n",
        "        continue\n",
        "     print(i, end=' ')"
      ],
      "metadata": {
        "colab": {
          "base_uri": "https://localhost:8080/"
        },
        "id": "3D9tk5rnMpz7",
        "outputId": "9c74e8f3-0780-47b6-e58a-63db7cabd0e0"
      },
      "execution_count": 54,
      "outputs": [
        {
          "output_type": "stream",
          "name": "stdout",
          "text": [
            "1 2 4 5 7 8 "
          ]
        }
      ]
    },
    {
      "cell_type": "code",
      "source": [
        "# For loops vs while loops\n",
        "# for-loops have a cleaner syntax\n",
        "# while loops are used when the behaviour of loop is not completely defined\n",
        "# Performance - No difference"
      ],
      "metadata": {
        "id": "EuFxSieKM3D_"
      },
      "execution_count": null,
      "outputs": []
    },
    {
      "cell_type": "code",
      "source": [
        "for j in range(5):\n",
        "    print(\"*\",end =\" \")\n",
        "print()\n",
        "for j in range(5):\n",
        "    print(\"*\",end =\" \")\n",
        "print()\n",
        "for j in range(5):\n",
        "    print(\"*\",end =\" \")\n",
        "print()\n",
        "for j in range(5):\n",
        "    print(\"*\",end =\" \")\n",
        "print()"
      ],
      "metadata": {
        "colab": {
          "base_uri": "https://localhost:8080/"
        },
        "id": "xviM9B0XM-yH",
        "outputId": "fbb2d5d8-d97c-4586-8b05-1aa4a8ba2e2a"
      },
      "execution_count": 71,
      "outputs": [
        {
          "output_type": "stream",
          "name": "stdout",
          "text": [
            "* * * * * \n",
            "* * * * * \n",
            "* * * * * \n",
            "* * * * * \n"
          ]
        }
      ]
    },
    {
      "cell_type": "code",
      "source": [
        "n = int(input())\n",
        "m = int(input())\n",
        "for i in range(m):\n",
        "  for j in range(n):\n",
        "    print(\"{\",i,j,\"}\",end =\"\")\n",
        "  print()\n",
        ""
      ],
      "metadata": {
        "colab": {
          "base_uri": "https://localhost:8080/"
        },
        "id": "6l6JiDZ_ORob",
        "outputId": "ab3f7633-90c2-4631-cb6e-544fac1bd7bd"
      },
      "execution_count": 77,
      "outputs": [
        {
          "output_type": "stream",
          "name": "stdout",
          "text": [
            "5\n",
            "5\n",
            "{ 0 0 }{ 0 1 }{ 0 2 }{ 0 3 }{ 0 4 }\n",
            "{ 1 0 }{ 1 1 }{ 1 2 }{ 1 3 }{ 1 4 }\n",
            "{ 2 0 }{ 2 1 }{ 2 2 }{ 2 3 }{ 2 4 }\n",
            "{ 3 0 }{ 3 1 }{ 3 2 }{ 3 3 }{ 3 4 }\n",
            "{ 4 0 }{ 4 1 }{ 4 2 }{ 4 3 }{ 4 4 }\n"
          ]
        }
      ]
    },
    {
      "cell_type": "code",
      "source": [
        "n = int(input())\n",
        "m = int(input())\n",
        "for i in range(m):\n",
        "  for j in range(i):\n",
        "    print(\"*\",end =\" \")\n",
        "  print()"
      ],
      "metadata": {
        "colab": {
          "base_uri": "https://localhost:8080/"
        },
        "id": "gMKNdZ6PQjzM",
        "outputId": "83b36348-b042-4881-9dde-3716b1ede0f2"
      },
      "execution_count": 89,
      "outputs": [
        {
          "output_type": "stream",
          "name": "stdout",
          "text": [
            "5\n",
            "5\n",
            "\n",
            "* \n",
            "* * \n",
            "* * * \n",
            "* * * * \n"
          ]
        }
      ]
    },
    {
      "cell_type": "code",
      "source": [
        "for i in range(5):\n",
        "    print(\"* \" *5)"
      ],
      "metadata": {
        "colab": {
          "base_uri": "https://localhost:8080/"
        },
        "id": "-SuHbzqoPqcF",
        "outputId": "14f3add1-2de2-48eb-fa87-3a10b3eee409"
      },
      "execution_count": 86,
      "outputs": [
        {
          "output_type": "stream",
          "name": "stdout",
          "text": [
            "* * * * * \n",
            "* * * * * \n",
            "* * * * * \n",
            "* * * * * \n",
            "* * * * * \n"
          ]
        }
      ]
    },
    {
      "cell_type": "code",
      "source": [],
      "metadata": {
        "id": "BJyZ6s2zNth6"
      },
      "execution_count": null,
      "outputs": []
    },
    {
      "cell_type": "code",
      "source": [
        "n = int(input())\n",
        "m = int(input())\n",
        "for i in range(m):\n",
        "  for j in range(i):\n",
        "    print(\"{\",i,j,\"}\",end =\"\")\n",
        "  print()"
      ],
      "metadata": {
        "colab": {
          "base_uri": "https://localhost:8080/"
        },
        "id": "5bI0omtaQ2j0",
        "outputId": "73e27e4b-674c-467a-976e-7c7d32ec7270"
      },
      "execution_count": 91,
      "outputs": [
        {
          "output_type": "stream",
          "name": "stdout",
          "text": [
            "10\n",
            "10\n",
            "\n",
            "{ 1 0 }\n",
            "{ 2 0 }{ 2 1 }\n",
            "{ 3 0 }{ 3 1 }{ 3 2 }\n",
            "{ 4 0 }{ 4 1 }{ 4 2 }{ 4 3 }\n",
            "{ 5 0 }{ 5 1 }{ 5 2 }{ 5 3 }{ 5 4 }\n",
            "{ 6 0 }{ 6 1 }{ 6 2 }{ 6 3 }{ 6 4 }{ 6 5 }\n",
            "{ 7 0 }{ 7 1 }{ 7 2 }{ 7 3 }{ 7 4 }{ 7 5 }{ 7 6 }\n",
            "{ 8 0 }{ 8 1 }{ 8 2 }{ 8 3 }{ 8 4 }{ 8 5 }{ 8 6 }{ 8 7 }\n",
            "{ 9 0 }{ 9 1 }{ 9 2 }{ 9 3 }{ 9 4 }{ 9 5 }{ 9 6 }{ 9 7 }{ 9 8 }\n"
          ]
        }
      ]
    },
    {
      "cell_type": "code",
      "source": [
        "n = int(input())\n",
        "m = int(input())\n",
        "\n",
        "for i in range(1,m+1):\n",
        "  for j in range(1,n+1):\n",
        "    print(\"{\",i,j,\"}\",end =\"\")\n",
        "  print()"
      ],
      "metadata": {
        "colab": {
          "base_uri": "https://localhost:8080/"
        },
        "id": "nC7oLA9MSA1q",
        "outputId": "9674b459-2d06-44cf-805f-afb57683fdd4"
      },
      "execution_count": 99,
      "outputs": [
        {
          "output_type": "stream",
          "name": "stdout",
          "text": [
            "5\n",
            "5\n",
            "{ 1 1 }{ 1 2 }{ 1 3 }{ 1 4 }{ 1 5 }\n",
            "{ 2 1 }{ 2 2 }{ 2 3 }{ 2 4 }{ 2 5 }\n",
            "{ 3 1 }{ 3 2 }{ 3 3 }{ 3 4 }{ 3 5 }\n",
            "{ 4 1 }{ 4 2 }{ 4 3 }{ 4 4 }{ 4 5 }\n",
            "{ 5 1 }{ 5 2 }{ 5 3 }{ 5 4 }{ 5 5 }\n"
          ]
        }
      ]
    },
    {
      "cell_type": "code",
      "source": [
        "n = int(input())\n",
        "m = int(input())\n",
        "for i in range(m):\n",
        "  for j in range(i):\n",
        "    print(\"* \",end =\" \")\n",
        "  print()"
      ],
      "metadata": {
        "colab": {
          "base_uri": "https://localhost:8080/"
        },
        "id": "snxf_n9aRco-",
        "outputId": "a79e7c7c-9c74-48cf-a387-8b3d7deccc6a"
      },
      "execution_count": 94,
      "outputs": [
        {
          "output_type": "stream",
          "name": "stdout",
          "text": [
            "10\n",
            "10\n",
            "\n",
            "*  \n",
            "*  *  \n",
            "*  *  *  \n",
            "*  *  *  *  \n",
            "*  *  *  *  *  \n",
            "*  *  *  *  *  *  \n",
            "*  *  *  *  *  *  *  \n",
            "*  *  *  *  *  *  *  *  \n",
            "*  *  *  *  *  *  *  *  *  \n"
          ]
        }
      ]
    }
  ]
}